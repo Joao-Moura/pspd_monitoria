{
 "cells": [
  {
   "cell_type": "code",
   "execution_count": 1,
   "id": "06093c02",
   "metadata": {},
   "outputs": [],
   "source": [
    "from pyspark.sql import SparkSession"
   ]
  },
  {
   "cell_type": "code",
   "execution_count": 2,
   "id": "fea3fc9c",
   "metadata": {
    "scrolled": false
   },
   "outputs": [
    {
     "name": "stderr",
     "output_type": "stream",
     "text": [
      "Setting default log level to \"WARN\".\n",
      "To adjust logging level use sc.setLogLevel(newLevel). For SparkR, use setLogLevel(newLevel).\n"
     ]
    },
    {
     "name": "stdout",
     "output_type": "stream",
     "text": [
      "23/01/31 22:15:32 WARN NativeCodeLoader: Unable to load native-hadoop library for your platform... using builtin-java classes where applicable\n"
     ]
    }
   ],
   "source": [
    "spark = SparkSession.builder.master('spark://cm1:7077').appName('tutorial').getOrCreate()"
   ]
  },
  {
   "cell_type": "code",
   "execution_count": 3,
   "id": "611e695c",
   "metadata": {
    "scrolled": true
   },
   "outputs": [
    {
     "name": "stderr",
     "output_type": "stream",
     "text": [
      "                                                                                \r"
     ]
    },
    {
     "data": {
      "text/plain": [
       "DataFrame[epi_week: int, date: timestamp, state: string, city: string, ibgeID: int, newDeaths: int, deaths: int, newCases: int, totalCases: int, deaths_per_100k_inhabitants: double, totalCases_per_100k_inhabitants: double, deaths_by_totalCases: double]"
      ]
     },
     "execution_count": 3,
     "metadata": {},
     "output_type": "execute_result"
    }
   ],
   "source": [
    "arquivo = spark.read.option('header', True) \\\n",
    "                    .option('inferSchema' , True) \\\n",
    "                    .csv('hdfs://chococino:9000/user/hadoop/brazil-case')\n",
    "arquivo"
   ]
  },
  {
   "cell_type": "code",
   "execution_count": 9,
   "id": "095c31a3",
   "metadata": {
    "scrolled": true
   },
   "outputs": [
    {
     "data": {
      "text/plain": [
       "Row(epi_week='152', date='2022-01-01', state='GO', city='Abadia de Goiás/GO', ibgeID='5200050', newDeaths='0', deaths='44', newCases='1', totalCases='2003', deaths_per_100k_inhabitants='480.454', totalCases_per_100k_inhabitants='21871.588', deaths_by_totalCases='0.022')"
      ]
     },
     "execution_count": 9,
     "metadata": {},
     "output_type": "execute_result"
    }
   ],
   "source": [
    "arquivo.head()"
   ]
  },
  {
   "cell_type": "code",
   "execution_count": 11,
   "id": "775ff377",
   "metadata": {},
   "outputs": [
    {
     "data": {
      "text/plain": [
       "2042905"
      ]
     },
     "execution_count": 11,
     "metadata": {},
     "output_type": "execute_result"
    }
   ],
   "source": [
    "arquivo.count()"
   ]
  },
  {
   "cell_type": "code",
   "execution_count": 12,
   "id": "f354105e",
   "metadata": {
    "scrolled": false
   },
   "outputs": [
    {
     "name": "stderr",
     "output_type": "stream",
     "text": [
      "                                                                                \r"
     ]
    },
    {
     "data": {
      "text/plain": [
       "[Row(epi_week='152', date='2022-01-01', state='DF', city='Brasília/DF', ibgeID='5300108', newDeaths='0', deaths='11108', newCases='0', totalCases='519811', deaths_per_100k_inhabitants='358.980', totalCases_per_100k_inhabitants='16798.850', deaths_by_totalCases='0.021'),\n",
       " Row(epi_week='201', date='2022-01-02', state='DF', city='Brasília/DF', ibgeID='5300108', newDeaths='0', deaths='11108', newCases='0', totalCases='519811', deaths_per_100k_inhabitants='358.980', totalCases_per_100k_inhabitants='16798.850', deaths_by_totalCases='0.021'),\n",
       " Row(epi_week='201', date='2022-01-03', state='DF', city='Brasília/DF', ibgeID='5300108', newDeaths='2', deaths='11110', newCases='727', totalCases='520538', deaths_per_100k_inhabitants='359.044', totalCases_per_100k_inhabitants='16822.344', deaths_by_totalCases='0.021'),\n",
       " Row(epi_week='201', date='2022-01-04', state='DF', city='Brasília/DF', ibgeID='5300108', newDeaths='2', deaths='11112', newCases='602', totalCases='521140', deaths_per_100k_inhabitants='359.109', totalCases_per_100k_inhabitants='16841.799', deaths_by_totalCases='0.021'),\n",
       " Row(epi_week='201', date='2022-01-05', state='DF', city='Brasília/DF', ibgeID='5300108', newDeaths='3', deaths='11115', newCases='760', totalCases='521900', deaths_per_100k_inhabitants='359.206', totalCases_per_100k_inhabitants='16866.360', deaths_by_totalCases='0.021'),\n",
       " Row(epi_week='201', date='2022-01-06', state='DF', city='Brasília/DF', ibgeID='5300108', newDeaths='1', deaths='11116', newCases='1451', totalCases='523351', deaths_per_100k_inhabitants='359.238', totalCases_per_100k_inhabitants='16913.252', deaths_by_totalCases='0.021'),\n",
       " Row(epi_week='201', date='2022-01-07', state='DF', city='Brasília/DF', ibgeID='5300108', newDeaths='3', deaths='11119', newCases='1565', totalCases='524916', deaths_per_100k_inhabitants='359.335', totalCases_per_100k_inhabitants='16963.829', deaths_by_totalCases='0.021'),\n",
       " Row(epi_week='201', date='2022-01-08', state='DF', city='Brasília/DF', ibgeID='5300108', newDeaths='0', deaths='11119', newCases='0', totalCases='524916', deaths_per_100k_inhabitants='359.335', totalCases_per_100k_inhabitants='16963.829', deaths_by_totalCases='0.021'),\n",
       " Row(epi_week='202', date='2022-01-09', state='DF', city='Brasília/DF', ibgeID='5300108', newDeaths='0', deaths='11119', newCases='0', totalCases='524916', deaths_per_100k_inhabitants='359.335', totalCases_per_100k_inhabitants='16963.829', deaths_by_totalCases='0.021'),\n",
       " Row(epi_week='202', date='2022-01-10', state='DF', city='Brasília/DF', ibgeID='5300108', newDeaths='1', deaths='11120', newCases='2775', totalCases='527691', deaths_per_100k_inhabitants='359.368', totalCases_per_100k_inhabitants='17053.509', deaths_by_totalCases='0.021')]"
      ]
     },
     "execution_count": 12,
     "metadata": {},
     "output_type": "execute_result"
    }
   ],
   "source": [
    "arquivo.filter(arquivo.state == 'DF').take(10)"
   ]
  },
  {
   "cell_type": "code",
   "execution_count": 18,
   "id": "01f95d5e",
   "metadata": {
    "scrolled": false
   },
   "outputs": [
    {
     "name": "stderr",
     "output_type": "stream",
     "text": [
      "\r",
      "[Stage 6:=======>                                                   (1 + 7) / 8]\r"
     ]
    },
    {
     "name": "stdout",
     "output_type": "stream",
     "text": [
      "+-----+-------------+\n",
      "|state|sum(newCases)|\n",
      "+-----+-------------+\n",
      "|   SC|       712618|\n",
      "|   RO|       187047|\n",
      "|   PI|        79063|\n",
      "|   AM|       191051|\n",
      "|   RR|        52159|\n",
      "|   GO|       876082|\n",
      "|   TO|       124009|\n",
      "|   MT|       304817|\n",
      "|   SP|      1859225|\n",
      "|   ES|       681272|\n",
      "|   PB|       235792|\n",
      "|   RS|      1388454|\n",
      "|   MS|       212694|\n",
      "|   AL|        93096|\n",
      "|TOTAL|     14042646|\n",
      "|   MG|      1855437|\n",
      "|   PA|       235523|\n",
      "|   BA|       498205|\n",
      "|   SE|        79751|\n",
      "|   PE|       477254|\n",
      "+-----+-------------+\n",
      "only showing top 20 rows\n",
      "\n"
     ]
    },
    {
     "name": "stderr",
     "output_type": "stream",
     "text": [
      "\r",
      "                                                                                \r"
     ]
    }
   ],
   "source": [
    "arquivo.select(arquivo.state, arquivo.newCases) \\\n",
    "       .groupBy(arquivo.state) \\\n",
    "       .sum('newCases').show()"
   ]
  },
  {
   "cell_type": "code",
   "execution_count": 4,
   "id": "02d09b47",
   "metadata": {},
   "outputs": [],
   "source": [
    "from pyspark.sql.functions import sum"
   ]
  },
  {
   "cell_type": "code",
   "execution_count": 7,
   "id": "8715686c",
   "metadata": {},
   "outputs": [
    {
     "name": "stderr",
     "output_type": "stream",
     "text": [
      "\r",
      "[Stage 5:=============================>                            (8 + 8) / 16]\r"
     ]
    },
    {
     "name": "stdout",
     "output_type": "stream",
     "text": [
      "+-----+--------------------+\n",
      "|state|    Mortes por Casos|\n",
      "+-----+--------------------+\n",
      "|   SC|0.003079077773441885|\n",
      "|   RO|0.002937666391260...|\n",
      "|   PI|0.005055480378890392|\n",
      "|   AM|0.002889258907683769|\n",
      "|   RR|0.001614902779590...|\n",
      "|   GO|0.003293138375180...|\n",
      "|   TO|0.008819925132358714|\n",
      "|   MT|0.003875135821154...|\n",
      "|   SP|0.011299429213640414|\n",
      "|   PB|0.003051345192028...|\n",
      "|   ES|0.002250507618785...|\n",
      "|   RS|0.003393296755461...|\n",
      "|   MS|0.004393935176532807|\n",
      "|   AL|0.006543064450669...|\n",
      "|TOTAL|0.005324779959560328|\n",
      "|   MG|0.002377899676836...|\n",
      "|   PA|0.006839803817290079|\n",
      "|   BA|0.003251790961011...|\n",
      "|   SE|0.003662380660815...|\n",
      "|   PE|-0.00472075023156...|\n",
      "+-----+--------------------+\n",
      "only showing top 20 rows\n",
      "\n"
     ]
    },
    {
     "name": "stderr",
     "output_type": "stream",
     "text": [
      "\r",
      "[Stage 5:=====================================================>   (15 + 1) / 16]\r",
      "\r",
      "                                                                                \r"
     ]
    }
   ],
   "source": [
    "arquivo.select(arquivo.state, arquivo.newDeaths, arquivo.newCases) \\\n",
    "       .filter(arquivo.newCases > 0) \\\n",
    "       .groupBy(arquivo.state) \\\n",
    "       .agg((sum(arquivo.newDeaths) / sum(arquivo.newCases)).alias('Mortes por Casos')) \\\n",
    "       .show()"
   ]
  },
  {
   "cell_type": "code",
   "execution_count": 9,
   "id": "58a66a29",
   "metadata": {},
   "outputs": [],
   "source": [
    "spark.stop()"
   ]
  },
  {
   "cell_type": "code",
   "execution_count": null,
   "id": "65f1090c",
   "metadata": {},
   "outputs": [],
   "source": []
  }
 ],
 "metadata": {
  "kernelspec": {
   "display_name": "Python 3 (ipykernel)",
   "language": "python",
   "name": "python3"
  },
  "language_info": {
   "codemirror_mode": {
    "name": "ipython",
    "version": 3
   },
   "file_extension": ".py",
   "mimetype": "text/x-python",
   "name": "python",
   "nbconvert_exporter": "python",
   "pygments_lexer": "ipython3",
   "version": "3.8.10"
  }
 },
 "nbformat": 4,
 "nbformat_minor": 5
}
