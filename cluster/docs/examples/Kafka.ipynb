{
 "cells": [
  {
   "cell_type": "markdown",
   "id": "b1c3c938",
   "metadata": {},
   "source": [
    "# Preparando o ambiente (source)\n",
    "\n",
    "Para utilizar corretamente o cluster, a primeira coisa que deve ser feita **dentro** da chococino é atualizar as variáveis de ambiente:\n",
    "\n",
    "```sh\n",
    "$ source /home/prof/hadoop/bin/chococino_env\n",
    "\n",
    "# Testando para ver se foi tudo configurado\n",
    "$ echo JAVA_HOME\n",
    "/usr/lib/jvm/java-8-openjdk-amd64/jre\n",
    "```\n",
    "\n",
    "# Redirecionando as portas (ssh port fowarding)\n",
    "\n",
    "Após instanciada as variáveis, se faz necessário realizar o redirecionamento das portas das interfaces gráficas (spark = 9090, hadoop = 9870 e notebook). Para isso rode o seguinte comando **fora** da chococino:\n",
    "\n",
    "```sh\n",
    "$ ssh -L <porta_local>:<ip_da_maquina>:<porta> <usuario>@chococino.naquadah.com.br -p13508\n",
    "\n",
    "# Exemplo de redirecionamento das portas\n",
    "$ ssh -L 9090:cm1:9090 -L 9870:chococino:9870 -L 8888:gpu1:8888 a190030879@chococino.naquadah.com.br -p13508\n",
    "```\n",
    "\n",
    "Obs.: Não é necessário fazer o redirecionamento das portas do zookeeper ou kafka (a princípio)\n",
    "\n",
    "Obs2.: Caso queira, é possível fazer o redirecionamento da porta 9092 (kafka-server) de qualquer máquina (com exceção da chococino) para se comunicar diretamente com a fila do Kafka pelo computador local.\n",
    "\n",
    "Obs3.: No caso de redirecionamento do Kafka é necessário ter o binário do kafka-console-{consumer/producer} no computador na versão 2.13-3.3.1. Com isso basta passar a flag **bootstrap-server** como localhost:<porta_aberta>"
   ]
  },
  {
   "cell_type": "code",
   "execution_count": 1,
   "id": "0160bb76",
   "metadata": {},
   "outputs": [],
   "source": [
    "from pyspark.sql import SparkSession"
   ]
  },
  {
   "cell_type": "code",
   "execution_count": 2,
   "id": "d3292e3e",
   "metadata": {
    "scrolled": false
   },
   "outputs": [
    {
     "name": "stderr",
     "output_type": "stream",
     "text": [
      "Setting default log level to \"WARN\".\n",
      "To adjust logging level use sc.setLogLevel(newLevel). For SparkR, use setLogLevel(newLevel).\n"
     ]
    },
    {
     "name": "stdout",
     "output_type": "stream",
     "text": [
      "23/02/07 19:14:51 WARN NativeCodeLoader: Unable to load native-hadoop library for your platform... using builtin-java classes where applicable\n"
     ]
    }
   ],
   "source": [
    "spark = SparkSession.builder.master(\"spark://cm1:7077\").appName(\"teste kafka\").getOrCreate()"
   ]
  },
  {
   "cell_type": "code",
   "execution_count": 3,
   "id": "cbad26d8",
   "metadata": {},
   "outputs": [],
   "source": [
    "lines = spark.readStream \\\n",
    "    .format(\"kafka\") \\\n",
    "    .option(\"kafka.bootstrap.servers\", \"cm4:9092\") \\\n",
    "    .option(\"subscribe\", \"teste\") \\\n",
    "    .option('includeTimestamp', 'true') \\\n",
    "    .load()"
   ]
  },
  {
   "cell_type": "code",
   "execution_count": 4,
   "id": "2e90bf22",
   "metadata": {},
   "outputs": [],
   "source": [
    "from pyspark.sql.functions import explode, split, col"
   ]
  },
  {
   "cell_type": "code",
   "execution_count": 5,
   "id": "02346f23",
   "metadata": {},
   "outputs": [],
   "source": [
    "words = lines.select(\n",
    "    explode(split(col(\"value\"), \"\\s+\")).alias(\"word\"),\n",
    "    lines.timestamp\n",
    ")"
   ]
  },
  {
   "cell_type": "markdown",
   "id": "a472f2d4",
   "metadata": {},
   "source": [
    "## Kafka Producer (terminal) - Consumer (notebook)\n",
    "- Em outro terminal, abra um producer do kafka com o seguinte comando:\n",
    "```sh\n",
    "kafka-console-producer.sh --bootstrap-server cm2:9092 --topic teste\n",
    "```\n",
    "\n",
    "- A partir desse ponto é só digitar no terminal do consumidor que os valores começaram a aparecer nas cells abaixo\n",
    "- Obs.: Aqui já da pra ver que não importa para qual máquina que o programa está enviando as mensagens no kafka, porque tudo está sendo compartilhado\n"
   ]
  },
  {
   "cell_type": "code",
   "execution_count": 6,
   "id": "f8dfb20c",
   "metadata": {},
   "outputs": [
    {
     "name": "stdout",
     "output_type": "stream",
     "text": [
      "23/02/05 19:51:23 WARN ResolveWriteToStream: Temporary checkpoint location created which is deleted normally when the query didn't fail: /tmp/temporary-e7f0bdf1-cb15-4d13-addc-36a07bbf8b7e. If it's required to delete it under any circumstances, please set spark.sql.streaming.forceDeleteTempCheckpointLocation to true. Important to know deleting temp checkpoint folder is best effort.\n",
      "23/02/05 19:51:24 WARN ResolveWriteToStream: spark.sql.adaptive.enabled is not supported in streaming DataFrames/Datasets and will be disabled.\n"
     ]
    },
    {
     "data": {
      "text/plain": [
       "<pyspark.sql.streaming.StreamingQuery at 0x7fd488745940>"
      ]
     },
     "execution_count": 6,
     "metadata": {},
     "output_type": "execute_result"
    },
    {
     "name": "stderr",
     "output_type": "stream",
     "text": [
      "                                                                                \r"
     ]
    },
    {
     "name": "stdout",
     "output_type": "stream",
     "text": [
      "-------------------------------------------\n",
      "Batch: 0\n",
      "-------------------------------------------\n",
      "+----+---------+\n",
      "|word|timestamp|\n",
      "+----+---------+\n",
      "+----+---------+\n",
      "\n"
     ]
    },
    {
     "name": "stderr",
     "output_type": "stream",
     "text": [
      "                                                                                \r"
     ]
    },
    {
     "name": "stdout",
     "output_type": "stream",
     "text": [
      "-------------------------------------------\n",
      "Batch: 1\n",
      "-------------------------------------------\n",
      "+--------+-----------------------+\n",
      "|word    |timestamp              |\n",
      "+--------+-----------------------+\n",
      "|testando|2023-02-05 19:51:29.465|\n",
      "|1       |2023-02-05 19:51:29.465|\n",
      "|2       |2023-02-05 19:51:29.465|\n",
      "+--------+-----------------------+\n",
      "\n",
      "-------------------------------------------\n",
      "Batch: 2\n",
      "-------------------------------------------\n",
      "+-----+-----------------------+\n",
      "|word |timestamp              |\n",
      "+-----+-----------------------+\n",
      "|ola  |2023-02-05 19:51:32.174|\n",
      "|mundo|2023-02-05 19:51:32.174|\n",
      "+-----+-----------------------+\n",
      "\n",
      "-------------------------------------------\n",
      "Batch: 3\n",
      "-------------------------------------------\n",
      "+----+-----------------------+\n",
      "|word|timestamp              |\n",
      "+----+-----------------------+\n",
      "|tudo|2023-02-05 19:51:38.594|\n",
      "|bem |2023-02-05 19:51:38.594|\n",
      "|?   |2023-02-05 19:51:38.594|\n",
      "+----+-----------------------+\n",
      "\n"
     ]
    }
   ],
   "source": [
    "words.writeStream \\\n",
    "    .format('console') \\\n",
    "    .option('truncate', 'false') \\\n",
    "    .start()"
   ]
  },
  {
   "cell_type": "code",
   "execution_count": 7,
   "id": "a2da0e61",
   "metadata": {},
   "outputs": [],
   "source": [
    "spark.stop()"
   ]
  },
  {
   "cell_type": "code",
   "execution_count": null,
   "id": "ff6dcbeb",
   "metadata": {},
   "outputs": [],
   "source": []
  }
 ],
 "metadata": {
  "kernelspec": {
   "display_name": "Python 3 (ipykernel)",
   "language": "python",
   "name": "python3"
  },
  "language_info": {
   "codemirror_mode": {
    "name": "ipython",
    "version": 3
   },
   "file_extension": ".py",
   "mimetype": "text/x-python",
   "name": "python",
   "nbconvert_exporter": "python",
   "pygments_lexer": "ipython3",
   "version": "3.8.10"
  }
 },
 "nbformat": 4,
 "nbformat_minor": 5
}
