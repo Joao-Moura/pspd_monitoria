{
 "cells": [
  {
   "cell_type": "code",
   "execution_count": 1,
   "id": "58b4f67e",
   "metadata": {},
   "outputs": [],
   "source": [
    "from pyspark.sql import SparkSession"
   ]
  },
  {
   "cell_type": "code",
   "execution_count": 2,
   "id": "8961c617",
   "metadata": {},
   "outputs": [],
   "source": [
    "SPARK_MASTER=\"spark://cm1:7077\"\n",
    "APP_NAME=\"Exemplo Spark, Kafka e ElasticSearch\"\n",
    "\n",
    "KAFKA_HOST=\"cm3:9092\"\n",
    "\n",
    "KAFKA_TOPIC_IN=\"student-a190020377-entrada\"\n",
    "KAFKA_TOPIC_OUT=\"student-a190020377-saida\"\n",
    "\n",
    "INTERVAL = \"10 seconds\""
   ]
  },
  {
   "cell_type": "markdown",
   "id": "453c3dfe",
   "metadata": {},
   "source": [
    "### Inicialização da sessão"
   ]
  },
  {
   "cell_type": "code",
   "execution_count": 3,
   "id": "072bb205",
   "metadata": {},
   "outputs": [
    {
     "name": "stderr",
     "output_type": "stream",
     "text": [
      "Setting default log level to \"WARN\".\n",
      "To adjust logging level use sc.setLogLevel(newLevel). For SparkR, use setLogLevel(newLevel).\n"
     ]
    },
    {
     "name": "stdout",
     "output_type": "stream",
     "text": [
      "23/02/11 00:03:20 WARN NativeCodeLoader: Unable to load native-hadoop library for your platform... using builtin-java classes where applicable\n"
     ]
    }
   ],
   "source": [
    "spark = SparkSession.builder \\\n",
    "        .master(SPARK_MASTER) \\\n",
    "        .appName(APP_NAME) \\\n",
    "        .getOrCreate()"
   ]
  },
  {
   "cell_type": "markdown",
   "id": "20632bfe",
   "metadata": {},
   "source": [
    "### Inscrição no topico"
   ]
  },
  {
   "cell_type": "code",
   "execution_count": 4,
   "id": "afbdf2bb",
   "metadata": {},
   "outputs": [
    {
     "data": {
      "text/plain": [
       "DataFrame[key: binary, value: binary, topic: string, partition: int, offset: bigint, timestamp: timestamp, timestampType: int]"
      ]
     },
     "execution_count": 4,
     "metadata": {},
     "output_type": "execute_result"
    }
   ],
   "source": [
    "messages = spark.readStream \\\n",
    "                .format(\"kafka\") \\\n",
    "                .option(\"kafka.bootstrap.servers\", KAFKA_HOST) \\\n",
    "                .option(\"subscribe\", KAFKA_TOPIC_IN) \\\n",
    "                .option('includeTimestamp', 'true') \\\n",
    "                .load()\n",
    "messages"
   ]
  },
  {
   "cell_type": "markdown",
   "id": "bef668dd",
   "metadata": {},
   "source": [
    "### Contagem das palavras"
   ]
  },
  {
   "cell_type": "code",
   "execution_count": 5,
   "id": "c7250879",
   "metadata": {},
   "outputs": [],
   "source": [
    "from pyspark.sql.functions import explode, split, col, upper, window, to_json, struct, lit"
   ]
  },
  {
   "cell_type": "markdown",
   "id": "4b90c242",
   "metadata": {},
   "source": [
    "#### Separação das linhas em palavras"
   ]
  },
  {
   "cell_type": "code",
   "execution_count": 6,
   "id": "fb08c826",
   "metadata": {},
   "outputs": [
    {
     "data": {
      "text/plain": [
       "DataFrame[word: string, timestamp: timestamp]"
      ]
     },
     "execution_count": 6,
     "metadata": {},
     "output_type": "execute_result"
    }
   ],
   "source": [
    "words = messages \\\n",
    "            .select(\n",
    "                explode(split(col(\"value\"), \"\\s+\")).alias(\"word\"),\n",
    "                messages.timestamp\n",
    "            ).select(\n",
    "                upper(col(\"word\")).alias('word'), \n",
    "                col(\"timestamp\")\n",
    "            )\n",
    "words"
   ]
  },
  {
   "cell_type": "markdown",
   "id": "9e454171",
   "metadata": {},
   "source": [
    "#### Agrupamento das palavras"
   ]
  },
  {
   "cell_type": "code",
   "execution_count": 7,
   "id": "a322fb98",
   "metadata": {},
   "outputs": [
    {
     "data": {
      "text/plain": [
       "DataFrame[window: struct<start:timestamp,end:timestamp>, word: string, count: bigint]"
      ]
     },
     "execution_count": 7,
     "metadata": {},
     "output_type": "execute_result"
    }
   ],
   "source": [
    "wordCounts = words.withWatermark(\"timestamp\", INTERVAL) \\\n",
    "                    .groupBy(\n",
    "                        window(words.timestamp, INTERVAL, INTERVAL),\n",
    "                        \"word\"\n",
    "                    ) \\\n",
    "                    .count()\n",
    "wordCounts"
   ]
  },
  {
   "cell_type": "markdown",
   "id": "8df05124",
   "metadata": {},
   "source": [
    "## Escrita no terminal"
   ]
  },
  {
   "cell_type": "code",
   "execution_count": 8,
   "id": "3c07955a",
   "metadata": {},
   "outputs": [
    {
     "name": "stdout",
     "output_type": "stream",
     "text": [
      "23/02/11 00:03:23 WARN ResolveWriteToStream: Temporary checkpoint location created which is deleted normally when the query didn't fail: /tmp/temporary-66b8ef76-e255-4862-bab4-9ada0cc1516a. If it's required to delete it under any circumstances, please set spark.sql.streaming.forceDeleteTempCheckpointLocation to true. Important to know deleting temp checkpoint folder is best effort.\n",
      "23/02/11 00:03:23 WARN ResolveWriteToStream: spark.sql.adaptive.enabled is not supported in streaming DataFrames/Datasets and will be disabled.\n"
     ]
    },
    {
     "name": "stderr",
     "output_type": "stream",
     "text": [
      "                                                                                \r"
     ]
    },
    {
     "name": "stdout",
     "output_type": "stream",
     "text": [
      "-------------------------------------------\n",
      "Batch: 0\n",
      "-------------------------------------------\n",
      "+------+----+-----+\n",
      "|window|word|count|\n",
      "+------+----+-----+\n",
      "+------+----+-----+\n",
      "\n"
     ]
    },
    {
     "name": "stderr",
     "output_type": "stream",
     "text": [
      "                                                                                \r"
     ]
    },
    {
     "name": "stdout",
     "output_type": "stream",
     "text": [
      "-------------------------------------------\n",
      "Batch: 1\n",
      "-------------------------------------------\n",
      "+--------------------+----+-----+\n",
      "|              window|word|count|\n",
      "+--------------------+----+-----+\n",
      "|{2023-02-11 00:03...|  AA|    1|\n",
      "|{2023-02-11 00:04...|  AA|    1|\n",
      "+--------------------+----+-----+\n",
      "\n"
     ]
    },
    {
     "name": "stderr",
     "output_type": "stream",
     "text": [
      "                                                                                \r"
     ]
    },
    {
     "name": "stdout",
     "output_type": "stream",
     "text": [
      "-------------------------------------------\n",
      "Batch: 2\n",
      "-------------------------------------------\n",
      "+--------------------+-----+-----+\n",
      "|              window| word|count|\n",
      "+--------------------+-----+-----+\n",
      "|{2023-02-11 00:04...|SAASD|    1|\n",
      "|{2023-02-11 00:04...|   AS|    1|\n",
      "|{2023-02-11 00:04...|    A|    2|\n",
      "|{2023-02-11 00:04...|ASDAS|    1|\n",
      "|{2023-02-11 00:04...|    S|    1|\n",
      "|{2023-02-11 00:04...|     |    1|\n",
      "|{2023-02-11 00:04...|    D|    1|\n",
      "|{2023-02-11 00:04...|  BBB|    1|\n",
      "|{2023-02-11 00:04...|   AA|    2|\n",
      "+--------------------+-----+-----+\n",
      "\n"
     ]
    },
    {
     "name": "stderr",
     "output_type": "stream",
     "text": [
      "                                                                                \r"
     ]
    },
    {
     "name": "stdout",
     "output_type": "stream",
     "text": [
      "-------------------------------------------\n",
      "Batch: 3\n",
      "-------------------------------------------\n",
      "+--------------------+------+-----+\n",
      "|              window|  word|count|\n",
      "+--------------------+------+-----+\n",
      "|{2023-02-11 00:04...|  ASAC|    1|\n",
      "|{2023-02-11 00:04...|    AS|    3|\n",
      "|{2023-02-11 00:04...|ASCASC|    1|\n",
      "|{2023-02-11 00:04...|   ASC|    2|\n",
      "|{2023-02-11 00:04...| ASASC|    1|\n",
      "|{2023-02-11 00:04...|    AC|    1|\n",
      "|{2023-02-11 00:04...|      |    3|\n",
      "|{2023-02-11 00:04...|  ASAS|    1|\n",
      "|{2023-02-11 00:04...|   CAS|    1|\n",
      "+--------------------+------+-----+\n",
      "\n"
     ]
    },
    {
     "name": "stderr",
     "output_type": "stream",
     "text": [
      "                                                                                \r"
     ]
    },
    {
     "name": "stdout",
     "output_type": "stream",
     "text": [
      "-------------------------------------------\n",
      "Batch: 4\n",
      "-------------------------------------------\n",
      "+--------------------+----+-----+\n",
      "|              window|word|count|\n",
      "+--------------------+----+-----+\n",
      "|{2023-02-11 00:04...| ASC|    4|\n",
      "+--------------------+----+-----+\n",
      "\n"
     ]
    },
    {
     "name": "stderr",
     "output_type": "stream",
     "text": [
      "\r",
      "[Stage 11:=====================================================>(199 + 1) / 200]\r",
      "\r",
      "                                                                                \r"
     ]
    },
    {
     "name": "stdout",
     "output_type": "stream",
     "text": [
      "-------------------------------------------\n",
      "Batch: 5\n",
      "-------------------------------------------\n",
      "+------+----+-----+\n",
      "|window|word|count|\n",
      "+------+----+-----+\n",
      "+------+----+-----+\n",
      "\n"
     ]
    }
   ],
   "source": [
    "wct = wordCounts.writeStream \\\n",
    "                .format('console') \\\n",
    "                .outputMode(\"update\") \\\n",
    "                .start()"
   ]
  },
  {
   "cell_type": "markdown",
   "id": "c5f0238b",
   "metadata": {},
   "source": [
    "## Conversão em JSON"
   ]
  },
  {
   "cell_type": "code",
   "execution_count": 9,
   "id": "960b4ad4",
   "metadata": {},
   "outputs": [
    {
     "data": {
      "text/plain": [
       "DataFrame[key: string, value: string]"
      ]
     },
     "execution_count": 9,
     "metadata": {},
     "output_type": "execute_result"
    }
   ],
   "source": [
    "wordCountsJson = wordCounts.select(\n",
    "                                lit('1').alias('key'),\n",
    "                                to_json(struct(\"word\", \"count\")).alias('value')\n",
    "                            )\n",
    "wordCountsJson"
   ]
  },
  {
   "cell_type": "markdown",
   "id": "2038a3de",
   "metadata": {},
   "source": [
    "### Escrita no terminal do JSON"
   ]
  },
  {
   "cell_type": "code",
   "execution_count": 10,
   "id": "3218b9d3",
   "metadata": {
    "scrolled": false
   },
   "outputs": [
    {
     "name": "stdout",
     "output_type": "stream",
     "text": [
      "23/02/11 00:06:07 WARN ResolveWriteToStream: Temporary checkpoint location created which is deleted normally when the query didn't fail: /tmp/temporary-86d74af9-f8ca-44ce-9e5b-a835cb26fbf2. If it's required to delete it under any circumstances, please set spark.sql.streaming.forceDeleteTempCheckpointLocation to true. Important to know deleting temp checkpoint folder is best effort.\n",
      "23/02/11 00:06:07 WARN ResolveWriteToStream: spark.sql.adaptive.enabled is not supported in streaming DataFrames/Datasets and will be disabled.\n"
     ]
    },
    {
     "name": "stderr",
     "output_type": "stream",
     "text": [
      "                                                                                \r"
     ]
    },
    {
     "name": "stdout",
     "output_type": "stream",
     "text": [
      "-------------------------------------------\n",
      "Batch: 0\n",
      "-------------------------------------------\n",
      "+---+-----+\n",
      "|key|value|\n",
      "+---+-----+\n",
      "+---+-----+\n",
      "\n"
     ]
    }
   ],
   "source": [
    "wcj = wordCountsJson.writeStream \\\n",
    "                .format('console') \\\n",
    "                .outputMode(\"update\") \\\n",
    "                .trigger(processingTime=INTERVAL) \\\n",
    "                .start()"
   ]
  },
  {
   "cell_type": "markdown",
   "id": "41e67de2",
   "metadata": {},
   "source": [
    "## Envio para topico do Kafka"
   ]
  },
  {
   "cell_type": "code",
   "execution_count": 11,
   "id": "6408adeb",
   "metadata": {
    "scrolled": true
   },
   "outputs": [
    {
     "name": "stdout",
     "output_type": "stream",
     "text": [
      "23/02/11 00:06:18 WARN ResolveWriteToStream: spark.sql.adaptive.enabled is not supported in streaming DataFrames/Datasets and will be disabled.\n"
     ]
    },
    {
     "name": "stderr",
     "output_type": "stream",
     "text": [
      "                                                                                \r"
     ]
    },
    {
     "name": "stdout",
     "output_type": "stream",
     "text": [
      "-------------------------------------------\n",
      "Batch: 6\n",
      "-------------------------------------------\n",
      "+--------------------+----+-----+\n",
      "|              window|word|count|\n",
      "+--------------------+----+-----+\n",
      "|{2023-02-11 00:06...|   A|    3|\n",
      "|{2023-02-11 00:06...| AAA|    1|\n",
      "|{2023-02-11 00:06...|    |    2|\n",
      "|{2023-02-11 00:06...|  AA|    1|\n",
      "+--------------------+----+-----+\n",
      "\n"
     ]
    },
    {
     "name": "stderr",
     "output_type": "stream",
     "text": [
      "                                                                                \r"
     ]
    },
    {
     "name": "stdout",
     "output_type": "stream",
     "text": [
      "-------------------------------------------\n",
      "Batch: 7\n",
      "-------------------------------------------\n",
      "+--------------------+----+-----+\n",
      "|              window|word|count|\n",
      "+--------------------+----+-----+\n",
      "|{2023-02-11 00:06...|  AC|    1|\n",
      "|{2023-02-11 00:06...| ASD|    1|\n",
      "|{2023-02-11 00:06...|   A|    8|\n",
      "|{2023-02-11 00:06...|    |    4|\n",
      "|{2023-02-11 00:06...| SAD|    1|\n",
      "|{2023-02-11 00:06...|  SD|    1|\n",
      "|{2023-02-11 00:06...|  AS|    3|\n",
      "|{2023-02-11 00:06...|   C|    7|\n",
      "|{2023-02-11 00:06...| DAS|    1|\n",
      "+--------------------+----+-----+\n",
      "\n"
     ]
    },
    {
     "name": "stderr",
     "output_type": "stream",
     "text": [
      "                                                                                \r"
     ]
    },
    {
     "name": "stdout",
     "output_type": "stream",
     "text": [
      "-------------------------------------------\n",
      "Batch: 1\n",
      "-------------------------------------------\n",
      "+---+--------------------+\n",
      "|key|               value|\n",
      "+---+--------------------+\n",
      "|  1|{\"word\":\"AC\",\"cou...|\n",
      "|  1|{\"word\":\"QW\",\"cou...|\n",
      "|  1|{\"word\":\"ASD\",\"co...|\n",
      "|  1|{\"word\":\"A\",\"coun...|\n",
      "|  1|{\"word\":\"AAA\",\"co...|\n",
      "|  1|{\"word\":\"\",\"count...|\n",
      "|  1|{\"word\":\"SAD\",\"co...|\n",
      "|  1|{\"word\":\"SD\",\"cou...|\n",
      "|  1|{\"word\":\"DQW\",\"co...|\n",
      "|  1|{\"word\":\"AA\",\"cou...|\n",
      "|  1|{\"word\":\"DADQW\",\"...|\n",
      "|  1|{\"word\":\"AS\",\"cou...|\n",
      "|  1|{\"word\":\"C\",\"coun...|\n",
      "|  1|{\"word\":\"DAS\",\"co...|\n",
      "+---+--------------------+\n",
      "\n"
     ]
    },
    {
     "name": "stderr",
     "output_type": "stream",
     "text": [
      "                                                                                \r"
     ]
    },
    {
     "name": "stdout",
     "output_type": "stream",
     "text": [
      "-------------------------------------------\n",
      "Batch: 8\n",
      "-------------------------------------------\n",
      "+--------------------+-----+-----+\n",
      "|              window| word|count|\n",
      "+--------------------+-----+-----+\n",
      "|{2023-02-11 00:06...|   QW|    1|\n",
      "|{2023-02-11 00:06...|  ASD|    2|\n",
      "|{2023-02-11 00:06...|     |    7|\n",
      "|{2023-02-11 00:06...|  DQW|    1|\n",
      "|{2023-02-11 00:06...|DADQW|    1|\n",
      "|{2023-02-11 00:06...|   AS|    6|\n",
      "+--------------------+-----+-----+\n",
      "\n"
     ]
    },
    {
     "name": "stderr",
     "output_type": "stream",
     "text": [
      "                                                                                \r"
     ]
    },
    {
     "name": "stdout",
     "output_type": "stream",
     "text": [
      "-------------------------------------------\n",
      "Batch: 9\n",
      "-------------------------------------------\n",
      "+------+----+-----+\n",
      "|window|word|count|\n",
      "+------+----+-----+\n",
      "+------+----+-----+\n",
      "\n"
     ]
    },
    {
     "name": "stderr",
     "output_type": "stream",
     "text": [
      "                                                                                \r"
     ]
    },
    {
     "name": "stdout",
     "output_type": "stream",
     "text": [
      "-------------------------------------------\n",
      "Batch: 2\n",
      "-------------------------------------------\n",
      "+---+-----+\n",
      "|key|value|\n",
      "+---+-----+\n",
      "+---+-----+\n",
      "\n",
      "23/02/11 00:06:55 WARN ProcessingTimeExecutor: Current batch is falling behind. The trigger interval is 10000 milliseconds, but spent 15175 milliseconds\n",
      "23/02/11 00:06:55 WARN ProcessingTimeExecutor: Current batch is falling behind. The trigger interval is 10000 milliseconds, but spent 15561 milliseconds\n"
     ]
    },
    {
     "name": "stderr",
     "output_type": "stream",
     "text": [
      "                                                                                \r"
     ]
    },
    {
     "name": "stdout",
     "output_type": "stream",
     "text": [
      "-------------------------------------------\n",
      "Batch: 10\n",
      "-------------------------------------------\n",
      "+--------------------+-----------------+-----+\n",
      "|              window|             word|count|\n",
      "+--------------------+-----------------+-----+\n",
      "|{2023-02-11 00:07...|           SDASDA|    1|\n",
      "|{2023-02-11 00:07...|              DAS|    1|\n",
      "|{2023-02-11 00:07...|              ASD|    1|\n",
      "|{2023-02-11 00:07...|ASDISDAJISJADJSDA|    1|\n",
      "|{2023-02-11 00:07...|               AS|    1|\n",
      "+--------------------+-----------------+-----+\n",
      "\n"
     ]
    },
    {
     "name": "stderr",
     "output_type": "stream",
     "text": [
      "                                                                                \r"
     ]
    },
    {
     "name": "stdout",
     "output_type": "stream",
     "text": [
      "-------------------------------------------\n",
      "Batch: 11\n",
      "-------------------------------------------\n",
      "+--------------------+-------+-----+\n",
      "|              window|   word|count|\n",
      "+--------------------+-------+-----+\n",
      "|{2023-02-11 00:08...|      B|    2|\n",
      "|{2023-02-11 00:07...|ASDDSAD|    1|\n",
      "|{2023-02-11 00:07...|    DAS|    3|\n",
      "|{2023-02-11 00:07...|    SDA|    1|\n",
      "|{2023-02-11 00:07...|      A|   11|\n",
      "|{2023-02-11 00:07...|    ADS|    1|\n",
      "|{2023-02-11 00:07...|    ASD|    4|\n",
      "|{2023-02-11 00:07...|       |    3|\n",
      "|{2023-02-11 00:07...|    ASC|    2|\n",
      "|{2023-02-11 00:08...|       |    1|\n",
      "|{2023-02-11 00:07...|    CAS|    1|\n",
      "|{2023-02-11 00:07...|  ASSDA|    1|\n",
      "|{2023-02-11 00:07...|      B|    4|\n",
      "|{2023-02-11 00:07...|     SD|    1|\n",
      "+--------------------+-------+-----+\n",
      "\n",
      "-------------------------------------------\n",
      "Batch: 3\n",
      "-------------------------------------------\n",
      "+---+--------------------+\n",
      "|key|               value|\n",
      "+---+--------------------+\n",
      "|  1|{\"word\":\"SDASDA\",...|\n",
      "|  1|{\"word\":\"ASDDSAD\"...|\n",
      "|  1|{\"word\":\"DAS\",\"co...|\n",
      "|  1|{\"word\":\"SDA\",\"co...|\n",
      "|  1|{\"word\":\"A\",\"coun...|\n",
      "|  1|{\"word\":\"ADS\",\"co...|\n",
      "|  1|{\"word\":\"ASD\",\"co...|\n",
      "|  1|{\"word\":\"ASDISDAJ...|\n",
      "|  1|{\"word\":\"\",\"count...|\n",
      "|  1|{\"word\":\"AS\",\"cou...|\n",
      "|  1|{\"word\":\"ASC\",\"co...|\n",
      "|  1|{\"word\":\"CAS\",\"co...|\n",
      "|  1|{\"word\":\"ASSDA\",\"...|\n",
      "|  1|{\"word\":\"B\",\"coun...|\n",
      "|  1|{\"word\":\"SD\",\"cou...|\n",
      "+---+--------------------+\n",
      "\n",
      "-------------------------------------------\n",
      "Batch: 12\n",
      "-------------------------------------------\n",
      "+------+----+-----+\n",
      "|window|word|count|\n",
      "+------+----+-----+\n",
      "+------+----+-----+\n",
      "\n"
     ]
    },
    {
     "name": "stderr",
     "output_type": "stream",
     "text": [
      "                                                                                \r"
     ]
    },
    {
     "name": "stdout",
     "output_type": "stream",
     "text": [
      "-------------------------------------------\n",
      "Batch: 4\n",
      "-------------------------------------------\n",
      "+---+--------------------+\n",
      "|key|               value|\n",
      "+---+--------------------+\n",
      "|  1|{\"word\":\"B\",\"coun...|\n",
      "|  1|{\"word\":\"\",\"count...|\n",
      "|  1|{\"word\":\"B\",\"coun...|\n",
      "+---+--------------------+\n",
      "\n"
     ]
    },
    {
     "name": "stderr",
     "output_type": "stream",
     "text": [
      "                                                                                \r"
     ]
    },
    {
     "name": "stdout",
     "output_type": "stream",
     "text": [
      "-------------------------------------------\n",
      "Batch: 13\n",
      "-------------------------------------------\n",
      "+--------------------+--------+-----+\n",
      "|              window|    word|count|\n",
      "+--------------------+--------+-----+\n",
      "|{2023-02-11 00:08...|ASDASDAS|    1|\n",
      "|{2023-02-11 00:08...|     ASD|    3|\n",
      "+--------------------+--------+-----+\n",
      "\n"
     ]
    },
    {
     "name": "stderr",
     "output_type": "stream",
     "text": [
      "                                                                                \r"
     ]
    },
    {
     "name": "stdout",
     "output_type": "stream",
     "text": [
      "-------------------------------------------\n",
      "Batch: 5\n",
      "-------------------------------------------\n",
      "+---+--------------------+\n",
      "|key|               value|\n",
      "+---+--------------------+\n",
      "|  1|{\"word\":\"AS\",\"cou...|\n",
      "|  1|{\"word\":\"\",\"count...|\n",
      "|  1|{\"word\":\"SDA\",\"co...|\n",
      "|  1|{\"word\":\"ASDASDAS...|\n",
      "|  1|{\"word\":\"D\",\"coun...|\n",
      "|  1|{\"word\":\"A\",\"coun...|\n",
      "|  1|{\"word\":\"ASD\",\"co...|\n",
      "|  1|{\"word\":\"DSA\",\"co...|\n",
      "+---+--------------------+\n",
      "\n"
     ]
    },
    {
     "name": "stderr",
     "output_type": "stream",
     "text": [
      "                                                                                \r"
     ]
    },
    {
     "name": "stdout",
     "output_type": "stream",
     "text": [
      "-------------------------------------------\n",
      "Batch: 14\n",
      "-------------------------------------------\n",
      "+--------------------+----+-----+\n",
      "|              window|word|count|\n",
      "+--------------------+----+-----+\n",
      "|{2023-02-11 00:08...|  AS|    1|\n",
      "|{2023-02-11 00:08...|   C|    1|\n",
      "|{2023-02-11 00:08...|    |    2|\n",
      "|{2023-02-11 00:08...| SDA|    1|\n",
      "|{2023-02-11 00:08...| ASC|    1|\n",
      "|{2023-02-11 00:08...|   D|    1|\n",
      "|{2023-02-11 00:08...|   A|    8|\n",
      "|{2023-02-11 00:08...| ASD|    4|\n",
      "|{2023-02-11 00:08...|   C|    2|\n",
      "|{2023-02-11 00:08...| DSA|    1|\n",
      "+--------------------+----+-----+\n",
      "\n"
     ]
    },
    {
     "name": "stderr",
     "output_type": "stream",
     "text": [
      "                                                                                \r"
     ]
    },
    {
     "name": "stdout",
     "output_type": "stream",
     "text": [
      "-------------------------------------------\n",
      "Batch: 15\n",
      "-------------------------------------------\n",
      "+--------------------+----+-----+\n",
      "|              window|word|count|\n",
      "+--------------------+----+-----+\n",
      "|{2023-02-11 00:08...|  CA|    1|\n",
      "|{2023-02-11 00:08...|   A|    8|\n",
      "|{2023-02-11 00:08...|    |    3|\n",
      "+--------------------+----+-----+\n",
      "\n"
     ]
    },
    {
     "name": "stderr",
     "output_type": "stream",
     "text": [
      "\r",
      "[Stage 57:=============>(199 + 1) / 200][Stage 59:===========>  (170 + 8) / 200]\r",
      "\r",
      "                                                                                \r"
     ]
    },
    {
     "name": "stdout",
     "output_type": "stream",
     "text": [
      "-------------------------------------------\n",
      "Batch: 6\n",
      "-------------------------------------------\n",
      "+---+--------------------+\n",
      "|key|               value|\n",
      "+---+--------------------+\n",
      "|  1|{\"word\":\"CA\",\"cou...|\n",
      "|  1|{\"word\":\"C\",\"coun...|\n",
      "|  1|{\"word\":\"\",\"count...|\n",
      "|  1|{\"word\":\"A\",\"coun...|\n",
      "|  1|{\"word\":\"ASC\",\"co...|\n",
      "|  1|{\"word\":\"A\",\"coun...|\n",
      "|  1|{\"word\":\"\",\"count...|\n",
      "|  1|{\"word\":\"C\",\"coun...|\n",
      "+---+--------------------+\n",
      "\n"
     ]
    },
    {
     "name": "stderr",
     "output_type": "stream",
     "text": [
      "\r",
      "[Stage 61:=====================================================>(199 + 1) / 200]\r",
      "\r",
      "                                                                                \r"
     ]
    },
    {
     "name": "stdout",
     "output_type": "stream",
     "text": [
      "-------------------------------------------\n",
      "Batch: 16\n",
      "-------------------------------------------\n",
      "+--------------------+----+-----+\n",
      "|              window|word|count|\n",
      "+--------------------+----+-----+\n",
      "|{2023-02-11 00:08...|   A|    9|\n",
      "|{2023-02-11 00:08...|   C|    1|\n",
      "|{2023-02-11 00:08...|  AA|    1|\n",
      "|{2023-02-11 00:08...|   A|    6|\n",
      "|{2023-02-11 00:08...|    |    2|\n",
      "|{2023-02-11 00:08...|  AS|    1|\n",
      "+--------------------+----+-----+\n",
      "\n"
     ]
    },
    {
     "name": "stderr",
     "output_type": "stream",
     "text": [
      "\r",
      "[Stage 63:==================================================>  (189 + 11) / 200]\r",
      "\r",
      "                                                                                \r"
     ]
    },
    {
     "name": "stdout",
     "output_type": "stream",
     "text": [
      "-------------------------------------------\n",
      "Batch: 17\n",
      "-------------------------------------------\n",
      "+--------------------+----+-----+\n",
      "|              window|word|count|\n",
      "+--------------------+----+-----+\n",
      "|{2023-02-11 00:08...| ASC|    2|\n",
      "|{2023-02-11 00:08...| CAS|    2|\n",
      "|{2023-02-11 00:08...|    |    3|\n",
      "+--------------------+----+-----+\n",
      "\n"
     ]
    },
    {
     "name": "stderr",
     "output_type": "stream",
     "text": [
      "                                                                                \r"
     ]
    },
    {
     "name": "stdout",
     "output_type": "stream",
     "text": [
      "-------------------------------------------\n",
      "Batch: 18\n",
      "-------------------------------------------\n",
      "+------+----+-----+\n",
      "|window|word|count|\n",
      "+------+----+-----+\n",
      "+------+----+-----+\n",
      "\n"
     ]
    },
    {
     "name": "stderr",
     "output_type": "stream",
     "text": [
      "                                                                                \r"
     ]
    },
    {
     "name": "stdout",
     "output_type": "stream",
     "text": [
      "-------------------------------------------\n",
      "Batch: 19\n",
      "-------------------------------------------\n",
      "+--------------------+------+-----+\n",
      "|              window|  word|count|\n",
      "+--------------------+------+-----+\n",
      "|{2023-02-11 00:08...|ASCCAS|    1|\n",
      "+--------------------+------+-----+\n",
      "\n"
     ]
    },
    {
     "name": "stderr",
     "output_type": "stream",
     "text": [
      "                                                                                \r"
     ]
    },
    {
     "name": "stdout",
     "output_type": "stream",
     "text": [
      "23/02/11 00:08:52 WARN ProcessingTimeExecutor: Current batch is falling behind. The trigger interval is 10000 milliseconds, but spent 12486 milliseconds\n"
     ]
    },
    {
     "name": "stderr",
     "output_type": "stream",
     "text": [
      "                                                                                \r"
     ]
    },
    {
     "name": "stdout",
     "output_type": "stream",
     "text": [
      "-------------------------------------------\n",
      "Batch: 7\n",
      "-------------------------------------------\n",
      "+---+--------------------+\n",
      "|key|               value|\n",
      "+---+--------------------+\n",
      "|  1|{\"word\":\"ASC\",\"co...|\n",
      "|  1|{\"word\":\"CAS\",\"co...|\n",
      "|  1|{\"word\":\"A\",\"coun...|\n",
      "|  1|{\"word\":\"C\",\"coun...|\n",
      "|  1|{\"word\":\"ASCCAS\",...|\n",
      "|  1|{\"word\":\"AA\",\"cou...|\n",
      "|  1|{\"word\":\"A\",\"coun...|\n",
      "|  1|{\"word\":\"\",\"count...|\n",
      "|  1|{\"word\":\"AS\",\"cou...|\n",
      "+---+--------------------+\n",
      "\n",
      "23/02/11 00:08:54 WARN ProcessingTimeExecutor: Current batch is falling behind. The trigger interval is 10000 milliseconds, but spent 14545 milliseconds\n"
     ]
    },
    {
     "name": "stderr",
     "output_type": "stream",
     "text": [
      "                                                                                \r"
     ]
    },
    {
     "name": "stdout",
     "output_type": "stream",
     "text": [
      "-------------------------------------------\n",
      "Batch: 20\n",
      "-------------------------------------------\n",
      "+------+----+-----+\n",
      "|window|word|count|\n",
      "+------+----+-----+\n",
      "+------+----+-----+\n",
      "\n"
     ]
    },
    {
     "name": "stderr",
     "output_type": "stream",
     "text": [
      "\r",
      "[Stage 77:====================================================> (194 + 6) / 200]\r",
      "\r",
      "                                                                                \r"
     ]
    },
    {
     "name": "stdout",
     "output_type": "stream",
     "text": [
      "-------------------------------------------\n",
      "Batch: 8\n",
      "-------------------------------------------\n",
      "+---+-----+\n",
      "|key|value|\n",
      "+---+-----+\n",
      "+---+-----+\n",
      "\n"
     ]
    },
    {
     "name": "stderr",
     "output_type": "stream",
     "text": [
      "                                                                                \r"
     ]
    },
    {
     "name": "stdout",
     "output_type": "stream",
     "text": [
      "-------------------------------------------\n",
      "Batch: 21\n",
      "-------------------------------------------\n",
      "+--------------------+---------+-----+\n",
      "|              window|     word|count|\n",
      "+--------------------+---------+-----+\n",
      "|{2023-02-11 00:14...|         |    1|\n",
      "|{2023-02-11 00:14...|      DAS|    1|\n",
      "|{2023-02-11 00:14...|      ASD|    3|\n",
      "|{2023-02-11 00:14...|       AS|    1|\n",
      "|{2023-02-11 00:14...|ASDASDSDA|    1|\n",
      "+--------------------+---------+-----+\n",
      "\n"
     ]
    },
    {
     "name": "stderr",
     "output_type": "stream",
     "text": [
      "                                                                                \r"
     ]
    },
    {
     "name": "stdout",
     "output_type": "stream",
     "text": [
      "-------------------------------------------\n",
      "Batch: 9\n",
      "-------------------------------------------\n",
      "+---+--------------------+\n",
      "|key|               value|\n",
      "+---+--------------------+\n",
      "|  1|{\"word\":\"D\",\"coun...|\n",
      "|  1|{\"word\":\"AAAAA\",\"...|\n",
      "|  1|{\"word\":\"\",\"count...|\n",
      "|  1|{\"word\":\"SA\",\"cou...|\n",
      "|  1|{\"word\":\"DAS\",\"co...|\n",
      "|  1|{\"word\":\"DS\",\"cou...|\n",
      "|  1|{\"word\":\"ASD\",\"co...|\n",
      "|  1|{\"word\":\"A\",\"coun...|\n",
      "|  1|{\"word\":\"ASDAS\",\"...|\n",
      "|  1|{\"word\":\"AA\",\"cou...|\n",
      "|  1|{\"word\":\"AS\",\"cou...|\n",
      "|  1|{\"word\":\"AAA\",\"co...|\n",
      "|  1|{\"word\":\"ASASD\",\"...|\n",
      "|  1|{\"word\":\"ASDASDSD...|\n",
      "+---+--------------------+\n",
      "\n"
     ]
    },
    {
     "name": "stderr",
     "output_type": "stream",
     "text": [
      "                                                                                \r"
     ]
    },
    {
     "name": "stdout",
     "output_type": "stream",
     "text": [
      "-------------------------------------------\n",
      "Batch: 22\n",
      "-------------------------------------------\n",
      "+--------------------+-----+-----+\n",
      "|              window| word|count|\n",
      "+--------------------+-----+-----+\n",
      "|{2023-02-11 00:14...|    D|    1|\n",
      "|{2023-02-11 00:14...|AAAAA|    1|\n",
      "|{2023-02-11 00:14...|     |    2|\n",
      "|{2023-02-11 00:14...|   SA|    2|\n",
      "|{2023-02-11 00:14...|  DAS|    3|\n",
      "|{2023-02-11 00:14...|   DS|    1|\n",
      "|{2023-02-11 00:14...|  ASD|    7|\n",
      "|{2023-02-11 00:14...|    A|   11|\n",
      "|{2023-02-11 00:14...|ASDAS|    1|\n",
      "|{2023-02-11 00:14...|   AA|    4|\n",
      "|{2023-02-11 00:14...|  AAA|    2|\n",
      "|{2023-02-11 00:14...|ASASD|    1|\n",
      "+--------------------+-----+-----+\n",
      "\n"
     ]
    },
    {
     "name": "stderr",
     "output_type": "stream",
     "text": [
      "                                                                                \r"
     ]
    },
    {
     "name": "stdout",
     "output_type": "stream",
     "text": [
      "-------------------------------------------\n",
      "Batch: 23\n",
      "-------------------------------------------\n",
      "+------+----+-----+\n",
      "|window|word|count|\n",
      "+------+----+-----+\n",
      "+------+----+-----+\n",
      "\n"
     ]
    },
    {
     "name": "stderr",
     "output_type": "stream",
     "text": [
      "                                                                                \r"
     ]
    },
    {
     "name": "stdout",
     "output_type": "stream",
     "text": [
      "-------------------------------------------\n",
      "Batch: 10\n",
      "-------------------------------------------\n",
      "+---+-----+\n",
      "|key|value|\n",
      "+---+-----+\n",
      "+---+-----+\n",
      "\n",
      "23/02/11 00:15:00 WARN ProcessingTimeExecutor: Current batch is falling behind. The trigger interval is 10000 milliseconds, but spent 10816 milliseconds\n"
     ]
    },
    {
     "name": "stderr",
     "output_type": "stream",
     "text": [
      "                                                                                \r"
     ]
    },
    {
     "name": "stdout",
     "output_type": "stream",
     "text": [
      "-------------------------------------------\n",
      "Batch: 24\n",
      "-------------------------------------------\n",
      "+--------------------+------------+-----+\n",
      "|              window|        word|count|\n",
      "+--------------------+------------+-----+\n",
      "|{2023-02-11 00:18...|            |    2|\n",
      "|{2023-02-11 00:18...|ASDASDASDSDA|    1|\n",
      "|{2023-02-11 00:18...|         DAS|    2|\n",
      "|{2023-02-11 00:18...|         ASD|    3|\n",
      "+--------------------+------------+-----+\n",
      "\n"
     ]
    },
    {
     "name": "stderr",
     "output_type": "stream",
     "text": [
      "                                                                                \r"
     ]
    },
    {
     "name": "stdout",
     "output_type": "stream",
     "text": [
      "-------------------------------------------\n",
      "Batch: 11\n",
      "-------------------------------------------\n",
      "+---+--------------------+\n",
      "|key|               value|\n",
      "+---+--------------------+\n",
      "|  1|{\"word\":\"D\",\"coun...|\n",
      "|  1|{\"word\":\"\",\"count...|\n",
      "|  1|{\"word\":\"SDA\",\"co...|\n",
      "|  1|{\"word\":\"SAASD\",\"...|\n",
      "|  1|{\"word\":\"ASDASDAS...|\n",
      "|  1|{\"word\":\"AS\",\"cou...|\n",
      "|  1|{\"word\":\"DAS\",\"co...|\n",
      "|  1|{\"word\":\"ASD\",\"co...|\n",
      "+---+--------------------+\n",
      "\n"
     ]
    },
    {
     "name": "stderr",
     "output_type": "stream",
     "text": [
      "                                                                                \r"
     ]
    },
    {
     "name": "stdout",
     "output_type": "stream",
     "text": [
      "23/02/11 00:18:30 WARN ProcessingTimeExecutor: Current batch is falling behind. The trigger interval is 10000 milliseconds, but spent 10871 milliseconds\n"
     ]
    },
    {
     "name": "stderr",
     "output_type": "stream",
     "text": [
      "                                                                                \r"
     ]
    },
    {
     "name": "stdout",
     "output_type": "stream",
     "text": [
      "-------------------------------------------\n",
      "Batch: 25\n",
      "-------------------------------------------\n",
      "+--------------------+-----+-----+\n",
      "|              window| word|count|\n",
      "+--------------------+-----+-----+\n",
      "|{2023-02-11 00:18...|    D|    1|\n",
      "|{2023-02-11 00:18...|     |    5|\n",
      "|{2023-02-11 00:18...|  SDA|    1|\n",
      "|{2023-02-11 00:18...|SAASD|    1|\n",
      "|{2023-02-11 00:18...|   AS|    1|\n",
      "|{2023-02-11 00:18...|  ASD|    6|\n",
      "+--------------------+-----+-----+\n",
      "\n"
     ]
    },
    {
     "name": "stderr",
     "output_type": "stream",
     "text": [
      "                                                                                ]\r"
     ]
    },
    {
     "name": "stdout",
     "output_type": "stream",
     "text": [
      "-------------------------------------------\n",
      "Batch: 12\n",
      "-------------------------------------------\n",
      "+---+-----+\n",
      "|key|value|\n",
      "+---+-----+\n",
      "+---+-----+\n",
      "\n"
     ]
    },
    {
     "name": "stderr",
     "output_type": "stream",
     "text": [
      "                                                                                \r"
     ]
    },
    {
     "name": "stdout",
     "output_type": "stream",
     "text": [
      "-------------------------------------------\n",
      "Batch: 26\n",
      "-------------------------------------------\n",
      "+------+----+-----+\n",
      "|window|word|count|\n",
      "+------+----+-----+\n",
      "+------+----+-----+\n",
      "\n"
     ]
    },
    {
     "name": "stderr",
     "output_type": "stream",
     "text": [
      "                                                                                \r"
     ]
    },
    {
     "name": "stdout",
     "output_type": "stream",
     "text": [
      "-------------------------------------------\n",
      "Batch: 27\n",
      "-------------------------------------------\n",
      "+--------------------+----+-----+\n",
      "|              window|word|count|\n",
      "+--------------------+----+-----+\n",
      "|{2023-02-11 00:18...| AAA|    1|\n",
      "|{2023-02-11 00:18...|AAAA|    1|\n",
      "+--------------------+----+-----+\n",
      "\n"
     ]
    },
    {
     "name": "stderr",
     "output_type": "stream",
     "text": [
      "                                                                                ]]\r"
     ]
    },
    {
     "name": "stdout",
     "output_type": "stream",
     "text": [
      "-------------------------------------------\n",
      "Batch: 28\n",
      "-------------------------------------------\n",
      "+------+----+-----+\n",
      "|window|word|count|\n",
      "+------+----+-----+\n",
      "+------+----+-----+\n",
      "\n"
     ]
    },
    {
     "name": "stderr",
     "output_type": "stream",
     "text": [
      "                                                                                \r"
     ]
    },
    {
     "name": "stdout",
     "output_type": "stream",
     "text": [
      "-------------------------------------------\n",
      "Batch: 13\n",
      "-------------------------------------------\n",
      "+---+--------------------+\n",
      "|key|               value|\n",
      "+---+--------------------+\n",
      "|  1|{\"word\":\"AAA\",\"co...|\n",
      "|  1|{\"word\":\"AAAA\",\"c...|\n",
      "+---+--------------------+\n",
      "\n"
     ]
    },
    {
     "name": "stderr",
     "output_type": "stream",
     "text": [
      "                                                                                \r"
     ]
    },
    {
     "name": "stdout",
     "output_type": "stream",
     "text": [
      "-------------------------------------------\n",
      "Batch: 14\n",
      "-------------------------------------------\n",
      "+---+-----+\n",
      "|key|value|\n",
      "+---+-----+\n",
      "+---+-----+\n",
      "\n"
     ]
    },
    {
     "name": "stderr",
     "output_type": "stream",
     "text": [
      "                                                                                \r"
     ]
    },
    {
     "name": "stdout",
     "output_type": "stream",
     "text": [
      "-------------------------------------------\n",
      "Batch: 29\n",
      "-------------------------------------------\n",
      "+--------------------+----+-----+\n",
      "|              window|word|count|\n",
      "+--------------------+----+-----+\n",
      "|{2023-02-11 00:19...|   U|    1|\n",
      "|{2023-02-11 00:19...|   U|    1|\n",
      "+--------------------+----+-----+\n",
      "\n"
     ]
    },
    {
     "name": "stderr",
     "output_type": "stream",
     "text": [
      "                                                                                \r"
     ]
    },
    {
     "name": "stdout",
     "output_type": "stream",
     "text": [
      "-------------------------------------------\n",
      "Batch: 30\n",
      "-------------------------------------------\n",
      "+------+----+-----+\n",
      "|window|word|count|\n",
      "+------+----+-----+\n",
      "+------+----+-----+\n",
      "\n"
     ]
    },
    {
     "name": "stderr",
     "output_type": "stream",
     "text": [
      "                                                                                \r"
     ]
    },
    {
     "name": "stdout",
     "output_type": "stream",
     "text": [
      "-------------------------------------------\n",
      "Batch: 15\n",
      "-------------------------------------------\n",
      "+---+--------------------+\n",
      "|key|               value|\n",
      "+---+--------------------+\n",
      "|  1|{\"word\":\"U\",\"coun...|\n",
      "|  1|{\"word\":\"U\",\"coun...|\n",
      "+---+--------------------+\n",
      "\n"
     ]
    },
    {
     "name": "stderr",
     "output_type": "stream",
     "text": [
      "                                                                                \r"
     ]
    },
    {
     "name": "stdout",
     "output_type": "stream",
     "text": [
      "-------------------------------------------\n",
      "Batch: 16\n",
      "-------------------------------------------\n",
      "+---+-----+\n",
      "|key|value|\n",
      "+---+-----+\n",
      "+---+-----+\n",
      "\n"
     ]
    },
    {
     "name": "stderr",
     "output_type": "stream",
     "text": [
      "                                                                                0]\r"
     ]
    },
    {
     "name": "stdout",
     "output_type": "stream",
     "text": [
      "-------------------------------------------\n",
      "Batch: 17\n",
      "-------------------------------------------\n",
      "-------------------------------------------\n",
      "Batch: 31\n",
      "-------------------------------------------\n",
      "+---+--------------------+\n",
      "|key|               value|\n",
      "+---+--------------------+\n",
      "|  1|{\"word\":\"SDA\",\"co...|\n",
      "|  1|{\"word\":\"ASD\",\"co...|\n",
      "|  1|{\"word\":\"AAA\",\"co...|\n",
      "|  1|{\"word\":\"A\",\"coun...|\n",
      "|  1|{\"word\":\"SA\",\"cou...|\n",
      "|  1|{\"word\":\"DS\",\"cou...|\n",
      "+---+--------------------+\n",
      "\n",
      "+--------------------+----+-----+\n",
      "|              window|word|count|\n",
      "+--------------------+----+-----+\n",
      "|{2023-02-11 00:21...| SDA|    1|\n",
      "|{2023-02-11 00:21...| ASD|    2|\n",
      "|{2023-02-11 00:21...| AAA|    1|\n",
      "|{2023-02-11 00:21...|   A|    1|\n",
      "|{2023-02-11 00:21...|  SA|    1|\n",
      "|{2023-02-11 00:21...|  DS|    1|\n",
      "+--------------------+----+-----+\n",
      "\n",
      "23/02/11 00:22:10 WARN ProcessingTimeExecutor: Current batch is falling behind. The trigger interval is 10000 milliseconds, but spent 10564 milliseconds\n"
     ]
    },
    {
     "name": "stderr",
     "output_type": "stream",
     "text": [
      "                                                                                \r"
     ]
    },
    {
     "name": "stdout",
     "output_type": "stream",
     "text": [
      "23/02/11 00:22:11 WARN ProcessingTimeExecutor: Current batch is falling behind. The trigger interval is 10000 milliseconds, but spent 11891 milliseconds\n"
     ]
    },
    {
     "name": "stderr",
     "output_type": "stream",
     "text": [
      "                                                                                ]\r"
     ]
    },
    {
     "name": "stdout",
     "output_type": "stream",
     "text": [
      "-------------------------------------------\n",
      "Batch: 18\n",
      "-------------------------------------------\n",
      "+---+--------------------+\n",
      "|key|               value|\n",
      "+---+--------------------+\n",
      "|  1|{\"word\":\"\",\"count...|\n",
      "|  1|{\"word\":\"\",\"count...|\n",
      "|  1|{\"word\":\"DAS\",\"co...|\n",
      "|  1|{\"word\":\"ASDASD\",...|\n",
      "|  1|{\"word\":\"SDA\",\"co...|\n",
      "|  1|{\"word\":\"CC\",\"cou...|\n",
      "|  1|{\"word\":\"C\",\"coun...|\n",
      "|  1|{\"word\":\"ASD\",\"co...|\n",
      "|  1|{\"word\":\"CCC\",\"co...|\n",
      "|  1|{\"word\":\"ASD\",\"co...|\n",
      "+---+--------------------+\n",
      "\n"
     ]
    },
    {
     "name": "stderr",
     "output_type": "stream",
     "text": [
      "                                                                                \r"
     ]
    },
    {
     "name": "stdout",
     "output_type": "stream",
     "text": [
      "-------------------------------------------\n",
      "Batch: 32\n",
      "-------------------------------------------\n",
      "+--------------------+------+-----+\n",
      "|              window|  word|count|\n",
      "+--------------------+------+-----+\n",
      "|{2023-02-11 00:21...|      |    1|\n",
      "|{2023-02-11 00:22...|      |    6|\n",
      "|{2023-02-11 00:22...|   DAS|    1|\n",
      "|{2023-02-11 00:21...|ASDASD|    1|\n",
      "|{2023-02-11 00:21...|   SDA|    2|\n",
      "|{2023-02-11 00:22...|    CC|    3|\n",
      "|{2023-02-11 00:22...|     C|   21|\n",
      "|{2023-02-11 00:21...|   ASD|    5|\n",
      "|{2023-02-11 00:22...|   CCC|    2|\n",
      "|{2023-02-11 00:22...|   ASD|    1|\n",
      "+--------------------+------+-----+\n",
      "\n"
     ]
    },
    {
     "name": "stderr",
     "output_type": "stream",
     "text": [
      "                                                                                \r"
     ]
    },
    {
     "name": "stdout",
     "output_type": "stream",
     "text": [
      "-------------------------------------------\n",
      "Batch: 33\n",
      "-------------------------------------------\n",
      "+--------------------+----+-----+\n",
      "|              window|word|count|\n",
      "+--------------------+----+-----+\n",
      "|{2023-02-11 00:22...|   A|   15|\n",
      "|{2023-02-11 00:22...|    |    3|\n",
      "+--------------------+----+-----+\n",
      "\n"
     ]
    },
    {
     "name": "stderr",
     "output_type": "stream",
     "text": [
      "\r",
      "[Stage 145:(193 + 7) / 200][Stage 147:(135 + 8) / 200][Stage 149:(37 + 0) / 200]\r",
      "\r",
      "                                                                                \r"
     ]
    },
    {
     "name": "stdout",
     "output_type": "stream",
     "text": [
      "-------------------------------------------\n",
      "Batch: 19\n",
      "-------------------------------------------\n",
      "+---+--------------------+\n",
      "|key|               value|\n",
      "+---+--------------------+\n",
      "|  1|{\"word\":\"A\",\"coun...|\n",
      "|  1|{\"word\":\"\",\"count...|\n",
      "+---+--------------------+\n",
      "\n"
     ]
    },
    {
     "name": "stderr",
     "output_type": "stream",
     "text": [
      "                                                                                \r"
     ]
    },
    {
     "name": "stdout",
     "output_type": "stream",
     "text": [
      "-------------------------------------------\n",
      "Batch: 34\n",
      "-------------------------------------------\n",
      "+------+----+-----+\n",
      "|window|word|count|\n",
      "+------+----+-----+\n",
      "+------+----+-----+\n",
      "\n"
     ]
    },
    {
     "name": "stderr",
     "output_type": "stream",
     "text": [
      "                                                                                \r"
     ]
    },
    {
     "name": "stdout",
     "output_type": "stream",
     "text": [
      "-------------------------------------------\n",
      "Batch: 20\n",
      "-------------------------------------------\n",
      "+---+-----+\n",
      "|key|value|\n",
      "+---+-----+\n",
      "+---+-----+\n",
      "\n"
     ]
    }
   ],
   "source": [
    "wck = wordCountsJson \\\n",
    "        .writeStream \\\n",
    "        .outputMode(\"update\") \\\n",
    "        .format(\"kafka\") \\\n",
    "        .option(\"kafka.bootstrap.servers\", KAFKA_HOST) \\\n",
    "        .option('topic', KAFKA_TOPIC_OUT) \\\n",
    "        .option('checkpointLocation', '/tmp/spark-a190020377') \\\n",
    "        .trigger(processingTime=INTERVAL) \\\n",
    "        .start()"
   ]
  },
  {
   "cell_type": "markdown",
   "id": "a7d88505",
   "metadata": {},
   "source": [
    "## Finalização"
   ]
  },
  {
   "cell_type": "code",
   "execution_count": 10,
   "id": "b0780021",
   "metadata": {},
   "outputs": [
    {
     "ename": "NameError",
     "evalue": "name 'wct' is not defined",
     "output_type": "error",
     "traceback": [
      "\u001b[0;31m---------------------------------------------------------------------------\u001b[0m",
      "\u001b[0;31mNameError\u001b[0m                                 Traceback (most recent call last)",
      "Cell \u001b[0;32mIn[10], line 1\u001b[0m\n\u001b[0;32m----> 1\u001b[0m \u001b[43mwct\u001b[49m\u001b[38;5;241m.\u001b[39mstop()\n\u001b[1;32m      2\u001b[0m wcj\u001b[38;5;241m.\u001b[39mstop()\n\u001b[1;32m      3\u001b[0m wck\u001b[38;5;241m.\u001b[39mstop\n",
      "\u001b[0;31mNameError\u001b[0m: name 'wct' is not defined"
     ]
    }
   ],
   "source": [
    "wct.stop()\n",
    "wcj.stop()\n",
    "wck.stop"
   ]
  },
  {
   "cell_type": "code",
   "execution_count": 11,
   "id": "b36c9bd1",
   "metadata": {},
   "outputs": [],
   "source": [
    "spark.stop()"
   ]
  },
  {
   "cell_type": "code",
   "execution_count": null,
   "id": "bd6aba91",
   "metadata": {},
   "outputs": [],
   "source": []
  }
 ],
 "metadata": {
  "kernelspec": {
   "display_name": "Python 3 (ipykernel)",
   "language": "python",
   "name": "python3"
  },
  "language_info": {
   "codemirror_mode": {
    "name": "ipython",
    "version": 3
   },
   "file_extension": ".py",
   "mimetype": "text/x-python",
   "name": "python",
   "nbconvert_exporter": "python",
   "pygments_lexer": "ipython3",
   "version": "3.8.10"
  }
 },
 "nbformat": 4,
 "nbformat_minor": 5
}
