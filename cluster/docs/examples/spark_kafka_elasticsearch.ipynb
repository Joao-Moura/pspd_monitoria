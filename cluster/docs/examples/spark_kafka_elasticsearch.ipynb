{
 "cells": [
  {
   "cell_type": "code",
   "execution_count": 1,
   "id": "58b4f67e",
   "metadata": {},
   "outputs": [],
   "source": [
    "from pyspark.sql import SparkSession"
   ]
  },
  {
   "cell_type": "code",
   "execution_count": 2,
   "id": "8961c617",
   "metadata": {},
   "outputs": [],
   "source": [
    "SPARK_MASTER=\"spark://cm1:7077\"\n",
    "APP_NAME=\"Exemplo Spark, Kafka e ElasticSearch\"\n",
    "\n",
    "KAFKA_HOST=\"cm3:9092\"\n",
    "\n",
    "KAFKA_TOPIC_IN=\"student-a190020377-entrada\"\n",
    "KAFKA_TOPIC_OUT=\"student-a190020377-saida\"\n",
    "\n",
    "INTERVAL = \"10 seconds\""
   ]
  },
  {
   "cell_type": "markdown",
   "id": "453c3dfe",
   "metadata": {},
   "source": [
    "### Inicialização da sessão"
   ]
  },
  {
   "cell_type": "code",
   "execution_count": 3,
   "id": "072bb205",
   "metadata": {},
   "outputs": [
    {
     "name": "stderr",
     "output_type": "stream",
     "text": [
      "Setting default log level to \"WARN\".\n",
      "To adjust logging level use sc.setLogLevel(newLevel). For SparkR, use setLogLevel(newLevel).\n"
     ]
    },
    {
     "name": "stdout",
     "output_type": "stream",
     "text": [
      "23/02/07 20:25:31 WARN NativeCodeLoader: Unable to load native-hadoop library for your platform... using builtin-java classes where applicable\n"
     ]
    }
   ],
   "source": [
    "spark = SparkSession.builder \\\n",
    "        .master(SPARK_MASTER) \\\n",
    "        .appName(APP_NAME) \\\n",
    "        .getOrCreate()"
   ]
  },
  {
   "cell_type": "markdown",
   "id": "20632bfe",
   "metadata": {},
   "source": [
    "### Inscrição no topico"
   ]
  },
  {
   "cell_type": "code",
   "execution_count": 4,
   "id": "afbdf2bb",
   "metadata": {},
   "outputs": [],
   "source": [
    "messages = spark.readStream \\\n",
    "                .format(\"kafka\") \\\n",
    "                .option(\"kafka.bootstrap.servers\", KAFKA_HOST) \\\n",
    "                .option(\"subscribe\", KAFKA_TOPIC_IN) \\\n",
    "                .option('includeTimestamp', 'true') \\\n",
    "                .load()"
   ]
  },
  {
   "cell_type": "markdown",
   "id": "bef668dd",
   "metadata": {},
   "source": [
    "### Contagem das palavras"
   ]
  },
  {
   "cell_type": "code",
   "execution_count": 5,
   "id": "c7250879",
   "metadata": {},
   "outputs": [],
   "source": [
    "from pyspark.sql.functions import explode, split, col, upper, window, to_json, struct, lit"
   ]
  },
  {
   "cell_type": "markdown",
   "id": "4b90c242",
   "metadata": {},
   "source": [
    "#### Separação das linhas em palavras"
   ]
  },
  {
   "cell_type": "code",
   "execution_count": 6,
   "id": "fb08c826",
   "metadata": {},
   "outputs": [
    {
     "data": {
      "text/plain": [
       "DataFrame[word: string, timestamp: timestamp]"
      ]
     },
     "execution_count": 6,
     "metadata": {},
     "output_type": "execute_result"
    }
   ],
   "source": [
    "words = messages \\\n",
    "            .select(\n",
    "                explode(split(col(\"value\"), \"\\s+\")).alias(\"word\"),\n",
    "                messages.timestamp\n",
    "            ).select(\n",
    "                upper(col(\"word\")).alias('word'), \n",
    "                col(\"timestamp\")\n",
    "            )\n",
    "words"
   ]
  },
  {
   "cell_type": "markdown",
   "id": "9e454171",
   "metadata": {},
   "source": [
    "#### Agrupamento das palavras"
   ]
  },
  {
   "cell_type": "code",
   "execution_count": 7,
   "id": "a322fb98",
   "metadata": {},
   "outputs": [
    {
     "data": {
      "text/plain": [
       "DataFrame[window: struct<start:timestamp,end:timestamp>, timestamp: timestamp, word: string, count: bigint]"
      ]
     },
     "execution_count": 7,
     "metadata": {},
     "output_type": "execute_result"
    }
   ],
   "source": [
    "wordCounts = words.withWatermark(\"timestamp\", INTERVAL) \\\n",
    "                    .groupBy(\n",
    "                        window(words.timestamp, INTERVAL, INTERVAL),\n",
    "                        \"timestamp\",\n",
    "                        \"word\"\n",
    "                    ) \\\n",
    "                    .count()\n",
    "wordCounts"
   ]
  },
  {
   "cell_type": "markdown",
   "id": "8df05124",
   "metadata": {},
   "source": [
    "## Escrita no terminal"
   ]
  },
  {
   "cell_type": "code",
   "execution_count": 13,
   "id": "3c07955a",
   "metadata": {},
   "outputs": [
    {
     "name": "stdout",
     "output_type": "stream",
     "text": [
      "23/02/07 20:14:06 WARN ResolveWriteToStream: Temporary checkpoint location created which is deleted normally when the query didn't fail: /tmp/temporary-fbade2bf-bd7d-40ab-9b1a-1f6332b05d74. If it's required to delete it under any circumstances, please set spark.sql.streaming.forceDeleteTempCheckpointLocation to true. Important to know deleting temp checkpoint folder is best effort.\n",
      "23/02/07 20:14:06 WARN ResolveWriteToStream: spark.sql.adaptive.enabled is not supported in streaming DataFrames/Datasets and will be disabled.\n"
     ]
    },
    {
     "name": "stderr",
     "output_type": "stream",
     "text": [
      "                                                                                \r"
     ]
    },
    {
     "name": "stdout",
     "output_type": "stream",
     "text": [
      "-------------------------------------------\n",
      "Batch: 0\n",
      "-------------------------------------------\n",
      "+------+---------+----+-----+\n",
      "|window|timestamp|word|count|\n",
      "+------+---------+----+-----+\n",
      "+------+---------+----+-----+\n",
      "\n"
     ]
    }
   ],
   "source": [
    "wct = wordCounts.writeStream \\\n",
    "                .format('console') \\\n",
    "                .outputMode(\"update\") \\\n",
    "                .start()"
   ]
  },
  {
   "cell_type": "markdown",
   "id": "c5f0238b",
   "metadata": {},
   "source": [
    "## Conversão em JSON"
   ]
  },
  {
   "cell_type": "code",
   "execution_count": 8,
   "id": "960b4ad4",
   "metadata": {},
   "outputs": [
    {
     "data": {
      "text/plain": [
       "DataFrame[key: string, value: string]"
      ]
     },
     "execution_count": 8,
     "metadata": {},
     "output_type": "execute_result"
    }
   ],
   "source": [
    "wordCountsJson = wordCounts.select(\n",
    "                                lit('1').alias('key'),\n",
    "                                to_json(struct(\"word\", \"count\")).alias('value')\n",
    "                            )\n",
    "wordCountsJson"
   ]
  },
  {
   "cell_type": "markdown",
   "id": "2038a3de",
   "metadata": {},
   "source": [
    "### Escrita no terminal do JSON"
   ]
  },
  {
   "cell_type": "code",
   "execution_count": 9,
   "id": "3218b9d3",
   "metadata": {
    "scrolled": false
   },
   "outputs": [
    {
     "name": "stdout",
     "output_type": "stream",
     "text": [
      "23/02/07 20:17:54 WARN ResolveWriteToStream: Temporary checkpoint location created which is deleted normally when the query didn't fail: /tmp/temporary-9c4800fe-ff56-40fb-ad28-57e905e64679. If it's required to delete it under any circumstances, please set spark.sql.streaming.forceDeleteTempCheckpointLocation to true. Important to know deleting temp checkpoint folder is best effort.\n",
      "23/02/07 20:17:54 WARN ResolveWriteToStream: spark.sql.adaptive.enabled is not supported in streaming DataFrames/Datasets and will be disabled.\n"
     ]
    },
    {
     "name": "stderr",
     "output_type": "stream",
     "text": [
      "\r",
      "[Stage 1:>                                                        (0 + 0) / 200]\r"
     ]
    }
   ],
   "source": [
    "wcj = wordCountsJson.writeStream \\\n",
    "                .format('console') \\\n",
    "                .outputMode(\"update\") \\\n",
    "                .trigger(processingTime=INTERVAL) \\\n",
    "                .start()"
   ]
  },
  {
   "cell_type": "markdown",
   "id": "41e67de2",
   "metadata": {},
   "source": [
    "## Envio para topico do Kafka"
   ]
  },
  {
   "cell_type": "code",
   "execution_count": 9,
   "id": "6408adeb",
   "metadata": {
    "scrolled": true
   },
   "outputs": [
    {
     "name": "stdout",
     "output_type": "stream",
     "text": [
      "23/02/07 20:25:40 WARN ResolveWriteToStream: spark.sql.adaptive.enabled is not supported in streaming DataFrames/Datasets and will be disabled.\n"
     ]
    },
    {
     "name": "stderr",
     "output_type": "stream",
     "text": [
      "                                                                                \r"
     ]
    },
    {
     "name": "stdout",
     "output_type": "stream",
     "text": [
      "23/02/07 20:26:00 WARN ProcessingTimeExecutor: Current batch is falling behind. The trigger interval is 10000 milliseconds, but spent 10563 milliseconds\n"
     ]
    },
    {
     "name": "stderr",
     "output_type": "stream",
     "text": [
      "                                                                                \r"
     ]
    }
   ],
   "source": [
    "wck = wordCountsJson \\\n",
    "        .writeStream \\\n",
    "        .outputMode(\"update\") \\\n",
    "        .format(\"kafka\") \\\n",
    "        .option(\"kafka.bootstrap.servers\", KAFKA_HOST) \\\n",
    "        .option('topic', KAFKA_TOPIC_OUT) \\\n",
    "        .option('checkpointLocation', '/tmp/spark-a190020377') \\\n",
    "        .trigger(processingTime=INTERVAL) \\\n",
    "        .start()"
   ]
  },
  {
   "cell_type": "markdown",
   "id": "a7d88505",
   "metadata": {},
   "source": [
    "## Finalização"
   ]
  },
  {
   "cell_type": "code",
   "execution_count": 10,
   "id": "b0780021",
   "metadata": {},
   "outputs": [
    {
     "ename": "NameError",
     "evalue": "name 'wct' is not defined",
     "output_type": "error",
     "traceback": [
      "\u001b[0;31m---------------------------------------------------------------------------\u001b[0m",
      "\u001b[0;31mNameError\u001b[0m                                 Traceback (most recent call last)",
      "Cell \u001b[0;32mIn[10], line 1\u001b[0m\n\u001b[0;32m----> 1\u001b[0m \u001b[43mwct\u001b[49m\u001b[38;5;241m.\u001b[39mstop()\n\u001b[1;32m      2\u001b[0m wcj\u001b[38;5;241m.\u001b[39mstop()\n\u001b[1;32m      3\u001b[0m wck\u001b[38;5;241m.\u001b[39mstop\n",
      "\u001b[0;31mNameError\u001b[0m: name 'wct' is not defined"
     ]
    }
   ],
   "source": [
    "wct.stop()\n",
    "wcj.stop()\n",
    "wck.stop"
   ]
  },
  {
   "cell_type": "code",
   "execution_count": 11,
   "id": "b36c9bd1",
   "metadata": {},
   "outputs": [],
   "source": [
    "spark.stop()"
   ]
  },
  {
   "cell_type": "code",
   "execution_count": null,
   "id": "bd6aba91",
   "metadata": {},
   "outputs": [],
   "source": []
  }
 ],
 "metadata": {
  "kernelspec": {
   "display_name": "Python 3 (ipykernel)",
   "language": "python",
   "name": "python3"
  },
  "language_info": {
   "codemirror_mode": {
    "name": "ipython",
    "version": 3
   },
   "file_extension": ".py",
   "mimetype": "text/x-python",
   "name": "python",
   "nbconvert_exporter": "python",
   "pygments_lexer": "ipython3",
   "version": "3.8.10"
  }
 },
 "nbformat": 4,
 "nbformat_minor": 5
}
