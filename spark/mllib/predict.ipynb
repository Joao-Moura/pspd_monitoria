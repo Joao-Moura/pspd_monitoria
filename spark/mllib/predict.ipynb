{
 "cells": [
  {
   "cell_type": "code",
   "execution_count": 1,
   "id": "7a81b204-48f7-48dd-9c87-0768b0d4f220",
   "metadata": {},
   "outputs": [],
   "source": [
    "from pyspark import SparkConf, SparkContext\n",
    "\n",
    "from pyspark.sql import SparkSession\n",
    "\n",
    "from pyspark.ml.pipeline import PipelineModel\n",
    "\n",
    "import os"
   ]
  },
  {
   "cell_type": "markdown",
   "id": "44101dd0-c425-40d8-b1f3-1d79ca317358",
   "metadata": {},
   "source": [
    "## CONSTANTS"
   ]
  },
  {
   "cell_type": "code",
   "execution_count": 2,
   "id": "ac69378a-24b4-4c81-9a61-b8b769bcc3f6",
   "metadata": {},
   "outputs": [],
   "source": [
    "MODEL_NAME = os.getenv(\"MODEL_PATH\", \"model\")\n",
    "SPARK_MASTER = os.getenv(\"SPARK_MASTER\", \"spark://cm1:7077\")\n",
    "SPARK_APP_NAME = \"Exemplo 01 - E-mail SPAM - Predict\""
   ]
  },
  {
   "cell_type": "markdown",
   "id": "d74f1cfc-42de-43b9-867d-d2ce3b54f79f",
   "metadata": {},
   "source": [
    "## Startup"
   ]
  },
  {
   "cell_type": "code",
   "execution_count": 3,
   "id": "b799ebca-42c0-4bff-a649-d16a9ecd40fb",
   "metadata": {},
   "outputs": [
    {
     "name": "stderr",
     "output_type": "stream",
     "text": [
      "Setting default log level to \"WARN\".\n",
      "To adjust logging level use sc.setLogLevel(newLevel). For SparkR, use setLogLevel(newLevel).\n"
     ]
    },
    {
     "name": "stdout",
     "output_type": "stream",
     "text": [
      "23/05/01 22:47:46 WARN NativeCodeLoader: Unable to load native-hadoop library for your platform... using builtin-java classes where applicable\n",
      "23/05/01 22:47:47 WARN Utils: Service 'SparkUI' could not bind on port 4040. Attempting port 4041.\n"
     ]
    }
   ],
   "source": [
    "conf = SparkConf() \\\n",
    "    .setMaster(SPARK_MASTER) \\\n",
    "    .setAppName(SPARK_APP_NAME)\n",
    "\n",
    "context = SparkContext(conf=conf)\n",
    "spark = SparkSession.builder.getOrCreate()"
   ]
  },
  {
   "cell_type": "markdown",
   "id": "0907899d-62c0-4dfb-9766-f6bb2c407368",
   "metadata": {},
   "source": [
    "## Dados para a predição"
   ]
  },
  {
   "cell_type": "code",
   "execution_count": 4,
   "id": "83b3a6f2-3f23-4020-bb00-c936c8efc435",
   "metadata": {},
   "outputs": [
    {
     "data": {
      "text/plain": [
       "DataFrame[text: string]"
      ]
     },
     "execution_count": 4,
     "metadata": {},
     "output_type": "execute_result"
    }
   ],
   "source": [
    "to_predict_data = spark.createDataFrame(\n",
    "    [\n",
    "        (\"online shop is your source for locating many prescription drugs without a prior prescription in compliance with fda regulations\",),\n",
    "        (\"have you been able to work out these transport pricing differences for oct 2000 ? we have only been able to pay $ 4 , 000 . 00 of the $ 28 , 000 . 00 invoice\",),\n",
    "        (\" look forward to discussing this further with you over the next week\",),\n",
    "    ],\n",
    "    [\"text\"]\n",
    ")\n",
    "to_predict_data"
   ]
  },
  {
   "cell_type": "markdown",
   "id": "f5682c45-49b7-40d9-9e7d-cf53e1328c28",
   "metadata": {},
   "source": [
    "### Carrega o modelo pré-treinado"
   ]
  },
  {
   "cell_type": "code",
   "execution_count": 6,
   "id": "5a26d8f5-d401-4893-b1a8-f29b4f80c3b3",
   "metadata": {},
   "outputs": [
    {
     "name": "stderr",
     "output_type": "stream",
     "text": [
      "                                                                                \r"
     ]
    }
   ],
   "source": [
    "model = PipelineModel.load(MODEL_NAME)"
   ]
  },
  {
   "cell_type": "markdown",
   "id": "d5c08688-ffc2-4599-81e2-8c36e6cef9b2",
   "metadata": {},
   "source": [
    "## Realiza a predição"
   ]
  },
  {
   "cell_type": "code",
   "execution_count": 7,
   "id": "bae37ed5-e5f1-4058-b648-a2bfe150a39a",
   "metadata": {},
   "outputs": [
    {
     "name": "stderr",
     "output_type": "stream",
     "text": [
      "                                                                                \r"
     ]
    },
    {
     "name": "stdout",
     "output_type": "stream",
     "text": [
      "+--------------------+--------------------+--------------------+--------------------+--------------------+----------+\n",
      "|                text|               words|            features|       rawPrediction|         probability|prediction|\n",
      "+--------------------+--------------------+--------------------+--------------------+--------------------+----------+\n",
      "|online shop is yo...|[online, shop, is...|(262144,[23273,44...|[-93.086847373046...|[3.74020880360585...|       1.0|\n",
      "|have you been abl...|[have, you, been,...|(262144,[15544,22...|[28.5314609960629...|[0.99999999999959...|       0.0|\n",
      "| look forward to ...|[, look, forward,...|(262144,[27576,54...|[-3.9792750765307...|[0.01835594853952...|       1.0|\n",
      "+--------------------+--------------------+--------------------+--------------------+--------------------+----------+\n",
      "\n"
     ]
    }
   ],
   "source": [
    "model.transform(to_predict_data).show()"
   ]
  },
  {
   "cell_type": "code",
   "execution_count": null,
   "id": "88df7675-1263-45e9-87fa-6c029448fa04",
   "metadata": {},
   "outputs": [],
   "source": []
  }
 ],
 "metadata": {
  "kernelspec": {
   "display_name": "Python 3 (ipykernel)",
   "language": "python",
   "name": "python3"
  },
  "language_info": {
   "codemirror_mode": {
    "name": "ipython",
    "version": 3
   },
   "file_extension": ".py",
   "mimetype": "text/x-python",
   "name": "python",
   "nbconvert_exporter": "python",
   "pygments_lexer": "ipython3",
   "version": "3.10.6"
  }
 },
 "nbformat": 4,
 "nbformat_minor": 5
}
