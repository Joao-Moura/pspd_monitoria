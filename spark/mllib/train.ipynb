{
 "cells": [
  {
   "cell_type": "code",
   "execution_count": 1,
   "id": "7a81b204-48f7-48dd-9c87-0768b0d4f220",
   "metadata": {},
   "outputs": [],
   "source": [
    "from pyspark import SparkConf, SparkContext\n",
    "\n",
    "from pyspark.sql import SparkSession\n",
    "\n",
    "from pyspark.ml import Pipeline\n",
    "\n",
    "from pyspark.ml.tuning import ParamGridBuilder, CrossValidator\n",
    "from pyspark.ml.evaluation import RegressionEvaluator\n",
    "from pyspark.ml.feature import HashingTF, Tokenizer\n",
    "from pyspark.ml.classification import LogisticRegression\n",
    "\n",
    "from datetime import datetime\n",
    "import os"
   ]
  },
  {
   "cell_type": "markdown",
   "id": "44101dd0-c425-40d8-b1f3-1d79ca317358",
   "metadata": {},
   "source": [
    "## CONSTANTS"
   ]
  },
  {
   "cell_type": "code",
   "execution_count": 2,
   "id": "ac69378a-24b4-4c81-9a61-b8b769bcc3f6",
   "metadata": {},
   "outputs": [],
   "source": [
    "TRAINING_FILE = os.getenv(\"TRAINING_FILE\", \"spam_ham_dataset.csv\")\n",
    "MODEL_NAME = os.getenv(\"MODEL_PATH\", \"model\")\n",
    "SPARK_MASTER = os.getenv(\"SPARK_MASTER\", \"spark://cm1:7077\")\n",
    "SPARK_APP_NAME = \"Exemplo 01 - E-mail SPAM - Train\""
   ]
  },
  {
   "cell_type": "markdown",
   "id": "d74f1cfc-42de-43b9-867d-d2ce3b54f79f",
   "metadata": {},
   "source": [
    "## Startup"
   ]
  },
  {
   "cell_type": "code",
   "execution_count": 3,
   "id": "b799ebca-42c0-4bff-a649-d16a9ecd40fb",
   "metadata": {},
   "outputs": [
    {
     "name": "stderr",
     "output_type": "stream",
     "text": [
      "Setting default log level to \"WARN\".\n",
      "To adjust logging level use sc.setLogLevel(newLevel). For SparkR, use setLogLevel(newLevel).\n"
     ]
    },
    {
     "name": "stdout",
     "output_type": "stream",
     "text": [
      "23/05/01 22:47:06 WARN NativeCodeLoader: Unable to load native-hadoop library for your platform... using builtin-java classes where applicable\n"
     ]
    }
   ],
   "source": [
    "conf = SparkConf() \\\n",
    "    .setMaster(SPARK_MASTER) \\\n",
    "    .setAppName(SPARK_APP_NAME)\n",
    "\n",
    "context = SparkContext(conf=conf)\n",
    "spark = SparkSession.builder.getOrCreate()"
   ]
  },
  {
   "cell_type": "markdown",
   "id": "0907899d-62c0-4dfb-9766-f6bb2c407368",
   "metadata": {},
   "source": [
    "## Ingest Dataset"
   ]
  },
  {
   "cell_type": "code",
   "execution_count": 4,
   "id": "83b3a6f2-3f23-4020-bb00-c936c8efc435",
   "metadata": {},
   "outputs": [
    {
     "name": "stderr",
     "output_type": "stream",
     "text": [
      "                                                                                \r"
     ]
    },
    {
     "data": {
      "text/plain": [
       "DataFrame[_c0: string, label: string, text: string, label_num: string]"
      ]
     },
     "execution_count": 4,
     "metadata": {},
     "output_type": "execute_result"
    }
   ],
   "source": [
    "training = spark \\\n",
    "    .read \\\n",
    "    .option(\"sep\", \",\") \\\n",
    "    .option(\"header\", \"true\") \\\n",
    "    .option(\"multiLine\", \"true\") \\\n",
    "    .option(\"quote\", \"\\\"\") \\\n",
    "    .option(\"escape\", \"\\\"\") \\\n",
    "    .csv(TRAINING_FILE)\n",
    "training"
   ]
  },
  {
   "cell_type": "markdown",
   "id": "f5682c45-49b7-40d9-9e7d-cf53e1328c28",
   "metadata": {},
   "source": [
    "### Seleciona `text` e converte `label_num` para float"
   ]
  },
  {
   "cell_type": "code",
   "execution_count": 5,
   "id": "5a26d8f5-d401-4893-b1a8-f29b4f80c3b3",
   "metadata": {},
   "outputs": [
    {
     "name": "stdout",
     "output_type": "stream",
     "text": [
      "+--------------------+-----+\n",
      "|                text|label|\n",
      "+--------------------+-----+\n",
      "|Subject: enron me...|  0.0|\n",
      "|Subject: hpl nom ...|  0.0|\n",
      "|Subject: neon ret...|  0.0|\n",
      "|Subject: photosho...|  1.0|\n",
      "|Subject: re : ind...|  0.0|\n",
      "|Subject: ehronlin...|  0.0|\n",
      "|Subject: spring s...|  0.0|\n",
      "|Subject: looking ...|  1.0|\n",
      "|Subject: noms / a...|  0.0|\n",
      "|Subject: nominati...|  0.0|\n",
      "|Subject: vocable ...|  1.0|\n",
      "|Subject: report 0...|  1.0|\n",
      "|Subject: enron / ...|  0.0|\n",
      "|Subject: vic . od...|  1.0|\n",
      "|Subject: tenaska ...|  0.0|\n",
      "|Subject: underpri...|  1.0|\n",
      "|Subject: re : fir...|  0.0|\n",
      "|Subject: swift - ...|  0.0|\n",
      "|Subject: meter va...|  0.0|\n",
      "|Subject: addition...|  0.0|\n",
      "+--------------------+-----+\n",
      "only showing top 20 rows\n",
      "\n"
     ]
    },
    {
     "name": "stderr",
     "output_type": "stream",
     "text": [
      "                                                                                \r"
     ]
    }
   ],
   "source": [
    "training = training.selectExpr(\"text\", \"CAST(label_num AS FLOAT) AS label\")\n",
    "\n",
    "training.show()"
   ]
  },
  {
   "cell_type": "markdown",
   "id": "d5c08688-ffc2-4599-81e2-8c36e6cef9b2",
   "metadata": {},
   "source": [
    "## Arquitetura do modelo\n",
    "### Extração, transformação e seleção"
   ]
  },
  {
   "cell_type": "code",
   "execution_count": 6,
   "id": "bae37ed5-e5f1-4058-b648-a2bfe150a39a",
   "metadata": {},
   "outputs": [],
   "source": [
    "tokenizer = Tokenizer(inputCol=\"text\", outputCol=\"words\")\n",
    "hashingTF = HashingTF(inputCol=tokenizer.getOutputCol(), outputCol=\"features\")\n",
    "logisticRegresion = LogisticRegression()"
   ]
  },
  {
   "cell_type": "markdown",
   "id": "0d6e98b1-5c68-4495-9939-91f06a35670f",
   "metadata": {},
   "source": [
    "### Pipeline"
   ]
  },
  {
   "cell_type": "code",
   "execution_count": 7,
   "id": "8de7a506-ea5a-4954-be61-75583225814f",
   "metadata": {},
   "outputs": [],
   "source": [
    "pipeline = Pipeline(stages=[tokenizer, hashingTF, logisticRegresion])"
   ]
  },
  {
   "cell_type": "markdown",
   "id": "171054ca-715e-4d9d-81af-791291cab43b",
   "metadata": {},
   "source": [
    "## Treinamento"
   ]
  },
  {
   "cell_type": "code",
   "execution_count": 8,
   "id": "6af9b887-5a7c-4f2f-95c3-0cd5cba63792",
   "metadata": {},
   "outputs": [
    {
     "name": "stderr",
     "output_type": "stream",
     "text": [
      "[Stage 3:>                                                          (0 + 1) / 1]\r"
     ]
    },
    {
     "name": "stdout",
     "output_type": "stream",
     "text": [
      "23/05/01 22:47:22 WARN InstanceBuilder$NativeBLAS: Failed to load implementation from:dev.ludovic.netlib.blas.JNIBLAS\n",
      "23/05/01 22:47:22 WARN InstanceBuilder$NativeBLAS: Failed to load implementation from:dev.ludovic.netlib.blas.ForeignLinkerBLAS\n",
      "23/05/01 22:47:22 WARN BLAS: Failed to load implementation from: com.github.fommil.netlib.NativeSystemBLAS\n",
      "23/05/01 22:47:22 WARN BLAS: Failed to load implementation from: com.github.fommil.netlib.NativeRefBLAS\n"
     ]
    },
    {
     "name": "stderr",
     "output_type": "stream",
     "text": [
      "                                                                                \r"
     ]
    }
   ],
   "source": [
    "training.cache()\n",
    "model = pipeline.fit(training)"
   ]
  },
  {
   "cell_type": "markdown",
   "id": "24743184-ff7a-493b-bc2d-5f951f70fdea",
   "metadata": {},
   "source": [
    "## Persiste o modelo"
   ]
  },
  {
   "cell_type": "code",
   "execution_count": 9,
   "id": "aed3132b-925f-4449-bdb8-750ef8cb7a71",
   "metadata": {},
   "outputs": [
    {
     "name": "stderr",
     "output_type": "stream",
     "text": [
      "                                                                                \r"
     ]
    }
   ],
   "source": [
    "model.save(MODEL_NAME)"
   ]
  },
  {
   "cell_type": "code",
   "execution_count": null,
   "id": "819109e8-e3a8-4ebd-ba92-965c0466abb6",
   "metadata": {},
   "outputs": [],
   "source": []
  }
 ],
 "metadata": {
  "kernelspec": {
   "display_name": "Python 3 (ipykernel)",
   "language": "python",
   "name": "python3"
  },
  "language_info": {
   "codemirror_mode": {
    "name": "ipython",
    "version": 3
   },
   "file_extension": ".py",
   "mimetype": "text/x-python",
   "name": "python",
   "nbconvert_exporter": "python",
   "pygments_lexer": "ipython3",
   "version": "3.10.6"
  }
 },
 "nbformat": 4,
 "nbformat_minor": 5
}
